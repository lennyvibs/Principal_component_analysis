{
 "cells": [
  {
   "cell_type": "markdown",
   "id": "3b87ef03",
   "metadata": {},
   "source": [
    "# HEART DISEASE DATASET\n",
    " Using the Heart Disease Dataset to carry out Dimension Reduction using both Hierarchical and Kmeans clustering."
   ]
  },
  {
   "cell_type": "markdown",
   "id": "862d5061",
   "metadata": {},
   "source": [
    "## BUSINESS OBJECTIVE\n",
    "* Maximize Life expectancy\n",
    "* Minimize Stress\n",
    "* Minimize Heart disease factors"
   ]
  },
  {
   "cell_type": "markdown",
   "id": "13ec6d84",
   "metadata": {},
   "source": [
    "## CONSTRAINTS\n",
    "* External problems\n",
    "* Infrequent testing\n",
    "* Unhealthy lifestyle\n"
   ]
  },
  {
   "cell_type": "markdown",
   "id": "070c9b64",
   "metadata": {},
   "source": [
    "## DATA DICTIONARY"
   ]
  },
  {
   "cell_type": "markdown",
   "id": "1a47d442",
   "metadata": {},
   "source": [
    "| **slno** | **Name of Feature** | **Description**                                                                              | **Type** | **Relevance** |\n",
    "|:--------:|:-------------------|:----------------------------------------------------------------------------------------------|:--------:|:-------------:|\n",
    "|     1    | age                 | Age of the patient                                                                           | Ratio    | Relevant      |\n",
    "|     2    | sex                 | Sex of the patient(1 = male; 0 = female)                                                      | Binary   | Relevant      |\n",
    "|     3    | cp                  | chest pain type (4 values)                                                                   | Interval | Relevant      |\n",
    "|     4    | trestbps            | resting blood pressure                                                                       | Ratio    | Relevant      |\n",
    "|     5    | chol                | serum cholestoral in mg/dl                                                                   | Ratio    | Relevant      |\n",
    "|     6    | fbs                 |  fasting blood sugar > 120 mg/dl where 1 = True , 0 = False                                  | Binary   | Relevant      |\n",
    "|     7    | restecg             |  resting electrocardiographic results (values   0,1,2)                                       | Nominal  | Relevant      |\n",
    "|     8    | thalach             | maximum heart rate achieved                                                                  | Ratio    | Relevant      |\n",
    "|     9    | exang               |  exercise induced angina (1 = yes; 0 = no)                                                   | Binary   | Relevant      |\n",
    "|    10    | oldpeak             |  oldpeak = ST depression induced by exercise   relative to rest                              | Ratio    | Relevant      |\n",
    "|    11    | slope               |  the slope of the peak exercise ST segment   (1: upsloping, 2: flat, 3: downsloping)         | Nominal  | Relevant      |\n",
    "|    12    | ca                  | number of major vessels (0-3) colored by   flourosopy                                        | Nominal  | Relevant      |\n",
    "|    13    | thal                | thal: 0   = normal; 1 = fixed defect; 2 = reversable defect                                  | Nominal  | Relevant      |\n",
    "|    14    | target              | Target variable which indicates diagnosis of Heart disease where 0 = no disease, 1 = disease | Binary   | Relevant      |"
   ]
  },
  {
   "cell_type": "markdown",
   "id": "46e5d637",
   "metadata": {},
   "source": [
    "Importing the required libraries."
   ]
  },
  {
   "cell_type": "code",
   "execution_count": 1,
   "id": "17e87c30",
   "metadata": {},
   "outputs": [],
   "source": [
    "import pandas as pd\n",
    "import numpy as np\n",
    "import matplotlib.pyplot as plt\n",
    "import seaborn as sns\n",
    "from scipy import stats\n",
    "from feature_engine.outliers import Winsorizer\n",
    "from termcolor import colored"
   ]
  },
  {
   "cell_type": "markdown",
   "id": "e26adb47",
   "metadata": {},
   "source": [
    "Loading the dataset using the pandas library and confirming the dataset has been loaded properly using the 'head' function"
   ]
  },
  {
   "cell_type": "code",
   "execution_count": 2,
   "id": "3fd16244",
   "metadata": {},
   "outputs": [
    {
     "data": {
      "text/html": [
       "<div>\n",
       "<style scoped>\n",
       "    .dataframe tbody tr th:only-of-type {\n",
       "        vertical-align: middle;\n",
       "    }\n",
       "\n",
       "    .dataframe tbody tr th {\n",
       "        vertical-align: top;\n",
       "    }\n",
       "\n",
       "    .dataframe thead th {\n",
       "        text-align: right;\n",
       "    }\n",
       "</style>\n",
       "<table border=\"1\" class=\"dataframe\">\n",
       "  <thead>\n",
       "    <tr style=\"text-align: right;\">\n",
       "      <th></th>\n",
       "      <th>age</th>\n",
       "      <th>sex</th>\n",
       "      <th>cp</th>\n",
       "      <th>trestbps</th>\n",
       "      <th>chol</th>\n",
       "      <th>fbs</th>\n",
       "      <th>restecg</th>\n",
       "      <th>thalach</th>\n",
       "      <th>exang</th>\n",
       "      <th>oldpeak</th>\n",
       "      <th>slope</th>\n",
       "      <th>ca</th>\n",
       "      <th>thal</th>\n",
       "      <th>target</th>\n",
       "    </tr>\n",
       "  </thead>\n",
       "  <tbody>\n",
       "    <tr>\n",
       "      <th>0</th>\n",
       "      <td>63</td>\n",
       "      <td>1</td>\n",
       "      <td>3</td>\n",
       "      <td>145</td>\n",
       "      <td>233</td>\n",
       "      <td>1</td>\n",
       "      <td>0</td>\n",
       "      <td>150</td>\n",
       "      <td>0</td>\n",
       "      <td>2.3</td>\n",
       "      <td>0</td>\n",
       "      <td>0</td>\n",
       "      <td>1</td>\n",
       "      <td>1</td>\n",
       "    </tr>\n",
       "    <tr>\n",
       "      <th>1</th>\n",
       "      <td>37</td>\n",
       "      <td>1</td>\n",
       "      <td>2</td>\n",
       "      <td>130</td>\n",
       "      <td>250</td>\n",
       "      <td>0</td>\n",
       "      <td>1</td>\n",
       "      <td>187</td>\n",
       "      <td>0</td>\n",
       "      <td>3.5</td>\n",
       "      <td>0</td>\n",
       "      <td>0</td>\n",
       "      <td>2</td>\n",
       "      <td>1</td>\n",
       "    </tr>\n",
       "    <tr>\n",
       "      <th>2</th>\n",
       "      <td>41</td>\n",
       "      <td>0</td>\n",
       "      <td>1</td>\n",
       "      <td>130</td>\n",
       "      <td>204</td>\n",
       "      <td>0</td>\n",
       "      <td>0</td>\n",
       "      <td>172</td>\n",
       "      <td>0</td>\n",
       "      <td>1.4</td>\n",
       "      <td>2</td>\n",
       "      <td>0</td>\n",
       "      <td>2</td>\n",
       "      <td>1</td>\n",
       "    </tr>\n",
       "    <tr>\n",
       "      <th>3</th>\n",
       "      <td>56</td>\n",
       "      <td>1</td>\n",
       "      <td>1</td>\n",
       "      <td>120</td>\n",
       "      <td>236</td>\n",
       "      <td>0</td>\n",
       "      <td>1</td>\n",
       "      <td>178</td>\n",
       "      <td>0</td>\n",
       "      <td>0.8</td>\n",
       "      <td>2</td>\n",
       "      <td>0</td>\n",
       "      <td>2</td>\n",
       "      <td>1</td>\n",
       "    </tr>\n",
       "    <tr>\n",
       "      <th>4</th>\n",
       "      <td>57</td>\n",
       "      <td>0</td>\n",
       "      <td>0</td>\n",
       "      <td>120</td>\n",
       "      <td>354</td>\n",
       "      <td>0</td>\n",
       "      <td>1</td>\n",
       "      <td>163</td>\n",
       "      <td>1</td>\n",
       "      <td>0.6</td>\n",
       "      <td>2</td>\n",
       "      <td>0</td>\n",
       "      <td>2</td>\n",
       "      <td>1</td>\n",
       "    </tr>\n",
       "  </tbody>\n",
       "</table>\n",
       "</div>"
      ],
      "text/plain": [
       "   age  sex  cp  trestbps  chol  fbs  restecg  thalach  exang  oldpeak  slope  \\\n",
       "0   63    1   3       145   233    1        0      150      0      2.3      0   \n",
       "1   37    1   2       130   250    0        1      187      0      3.5      0   \n",
       "2   41    0   1       130   204    0        0      172      0      1.4      2   \n",
       "3   56    1   1       120   236    0        1      178      0      0.8      2   \n",
       "4   57    0   0       120   354    0        1      163      1      0.6      2   \n",
       "\n",
       "   ca  thal  target  \n",
       "0   0     1       1  \n",
       "1   0     2       1  \n",
       "2   0     2       1  \n",
       "3   0     2       1  \n",
       "4   0     2       1  "
      ]
     },
     "execution_count": 2,
     "metadata": {},
     "output_type": "execute_result"
    }
   ],
   "source": [
    "df0 = pd.read_csv(r\"D:\\360Digitmg\\ASSIGNMENTS\\Ass8\\heart disease.csv\")\n",
    "df=df0.copy()\n",
    "df.head()"
   ]
  },
  {
   "cell_type": "markdown",
   "id": "6b969727",
   "metadata": {},
   "source": [
    "### EXPLORATORY DATA ANALYSIS"
   ]
  },
  {
   "cell_type": "markdown",
   "id": "89606ccd",
   "metadata": {},
   "source": [
    "The below three lines give a general idea about the dataset like the shape, type and non null values."
   ]
  },
  {
   "cell_type": "code",
   "execution_count": 3,
   "id": "46c129c5",
   "metadata": {},
   "outputs": [
    {
     "data": {
      "text/plain": [
       "(303, 14)"
      ]
     },
     "execution_count": 3,
     "metadata": {},
     "output_type": "execute_result"
    }
   ],
   "source": [
    "df.shape"
   ]
  },
  {
   "cell_type": "code",
   "execution_count": 4,
   "id": "16c1f67c",
   "metadata": {},
   "outputs": [
    {
     "data": {
      "text/plain": [
       "age           int64\n",
       "sex           int64\n",
       "cp            int64\n",
       "trestbps      int64\n",
       "chol          int64\n",
       "fbs           int64\n",
       "restecg       int64\n",
       "thalach       int64\n",
       "exang         int64\n",
       "oldpeak     float64\n",
       "slope         int64\n",
       "ca            int64\n",
       "thal          int64\n",
       "target        int64\n",
       "dtype: object"
      ]
     },
     "execution_count": 4,
     "metadata": {},
     "output_type": "execute_result"
    }
   ],
   "source": [
    "df.dtypes"
   ]
  },
  {
   "cell_type": "code",
   "execution_count": 5,
   "id": "414ae339",
   "metadata": {},
   "outputs": [
    {
     "name": "stdout",
     "output_type": "stream",
     "text": [
      "<class 'pandas.core.frame.DataFrame'>\n",
      "RangeIndex: 303 entries, 0 to 302\n",
      "Data columns (total 14 columns):\n",
      " #   Column    Non-Null Count  Dtype  \n",
      "---  ------    --------------  -----  \n",
      " 0   age       303 non-null    int64  \n",
      " 1   sex       303 non-null    int64  \n",
      " 2   cp        303 non-null    int64  \n",
      " 3   trestbps  303 non-null    int64  \n",
      " 4   chol      303 non-null    int64  \n",
      " 5   fbs       303 non-null    int64  \n",
      " 6   restecg   303 non-null    int64  \n",
      " 7   thalach   303 non-null    int64  \n",
      " 8   exang     303 non-null    int64  \n",
      " 9   oldpeak   303 non-null    float64\n",
      " 10  slope     303 non-null    int64  \n",
      " 11  ca        303 non-null    int64  \n",
      " 12  thal      303 non-null    int64  \n",
      " 13  target    303 non-null    int64  \n",
      "dtypes: float64(1), int64(13)\n",
      "memory usage: 33.3 KB\n"
     ]
    }
   ],
   "source": [
    "df.info()"
   ]
  },
  {
   "cell_type": "markdown",
   "id": "78ee999b",
   "metadata": {},
   "source": [
    "The describe function gives the count, min, max, mean, standard deviation and quantile values of the dataset."
   ]
  },
  {
   "cell_type": "code",
   "execution_count": 6,
   "id": "12c467cc",
   "metadata": {},
   "outputs": [
    {
     "data": {
      "text/html": [
       "<div>\n",
       "<style scoped>\n",
       "    .dataframe tbody tr th:only-of-type {\n",
       "        vertical-align: middle;\n",
       "    }\n",
       "\n",
       "    .dataframe tbody tr th {\n",
       "        vertical-align: top;\n",
       "    }\n",
       "\n",
       "    .dataframe thead th {\n",
       "        text-align: right;\n",
       "    }\n",
       "</style>\n",
       "<table border=\"1\" class=\"dataframe\">\n",
       "  <thead>\n",
       "    <tr style=\"text-align: right;\">\n",
       "      <th></th>\n",
       "      <th>age</th>\n",
       "      <th>sex</th>\n",
       "      <th>cp</th>\n",
       "      <th>trestbps</th>\n",
       "      <th>chol</th>\n",
       "      <th>fbs</th>\n",
       "      <th>restecg</th>\n",
       "      <th>thalach</th>\n",
       "      <th>exang</th>\n",
       "      <th>oldpeak</th>\n",
       "      <th>slope</th>\n",
       "      <th>ca</th>\n",
       "      <th>thal</th>\n",
       "      <th>target</th>\n",
       "    </tr>\n",
       "  </thead>\n",
       "  <tbody>\n",
       "    <tr>\n",
       "      <th>count</th>\n",
       "      <td>303.000000</td>\n",
       "      <td>303.000000</td>\n",
       "      <td>303.000000</td>\n",
       "      <td>303.000000</td>\n",
       "      <td>303.000000</td>\n",
       "      <td>303.000000</td>\n",
       "      <td>303.000000</td>\n",
       "      <td>303.000000</td>\n",
       "      <td>303.000000</td>\n",
       "      <td>303.000000</td>\n",
       "      <td>303.000000</td>\n",
       "      <td>303.000000</td>\n",
       "      <td>303.000000</td>\n",
       "      <td>303.000000</td>\n",
       "    </tr>\n",
       "    <tr>\n",
       "      <th>mean</th>\n",
       "      <td>54.366337</td>\n",
       "      <td>0.683168</td>\n",
       "      <td>0.966997</td>\n",
       "      <td>131.623762</td>\n",
       "      <td>246.264026</td>\n",
       "      <td>0.148515</td>\n",
       "      <td>0.528053</td>\n",
       "      <td>149.646865</td>\n",
       "      <td>0.326733</td>\n",
       "      <td>1.039604</td>\n",
       "      <td>1.399340</td>\n",
       "      <td>0.729373</td>\n",
       "      <td>2.313531</td>\n",
       "      <td>0.544554</td>\n",
       "    </tr>\n",
       "    <tr>\n",
       "      <th>std</th>\n",
       "      <td>9.082101</td>\n",
       "      <td>0.466011</td>\n",
       "      <td>1.032052</td>\n",
       "      <td>17.538143</td>\n",
       "      <td>51.830751</td>\n",
       "      <td>0.356198</td>\n",
       "      <td>0.525860</td>\n",
       "      <td>22.905161</td>\n",
       "      <td>0.469794</td>\n",
       "      <td>1.161075</td>\n",
       "      <td>0.616226</td>\n",
       "      <td>1.022606</td>\n",
       "      <td>0.612277</td>\n",
       "      <td>0.498835</td>\n",
       "    </tr>\n",
       "    <tr>\n",
       "      <th>min</th>\n",
       "      <td>29.000000</td>\n",
       "      <td>0.000000</td>\n",
       "      <td>0.000000</td>\n",
       "      <td>94.000000</td>\n",
       "      <td>126.000000</td>\n",
       "      <td>0.000000</td>\n",
       "      <td>0.000000</td>\n",
       "      <td>71.000000</td>\n",
       "      <td>0.000000</td>\n",
       "      <td>0.000000</td>\n",
       "      <td>0.000000</td>\n",
       "      <td>0.000000</td>\n",
       "      <td>0.000000</td>\n",
       "      <td>0.000000</td>\n",
       "    </tr>\n",
       "    <tr>\n",
       "      <th>25%</th>\n",
       "      <td>47.500000</td>\n",
       "      <td>0.000000</td>\n",
       "      <td>0.000000</td>\n",
       "      <td>120.000000</td>\n",
       "      <td>211.000000</td>\n",
       "      <td>0.000000</td>\n",
       "      <td>0.000000</td>\n",
       "      <td>133.500000</td>\n",
       "      <td>0.000000</td>\n",
       "      <td>0.000000</td>\n",
       "      <td>1.000000</td>\n",
       "      <td>0.000000</td>\n",
       "      <td>2.000000</td>\n",
       "      <td>0.000000</td>\n",
       "    </tr>\n",
       "    <tr>\n",
       "      <th>50%</th>\n",
       "      <td>55.000000</td>\n",
       "      <td>1.000000</td>\n",
       "      <td>1.000000</td>\n",
       "      <td>130.000000</td>\n",
       "      <td>240.000000</td>\n",
       "      <td>0.000000</td>\n",
       "      <td>1.000000</td>\n",
       "      <td>153.000000</td>\n",
       "      <td>0.000000</td>\n",
       "      <td>0.800000</td>\n",
       "      <td>1.000000</td>\n",
       "      <td>0.000000</td>\n",
       "      <td>2.000000</td>\n",
       "      <td>1.000000</td>\n",
       "    </tr>\n",
       "    <tr>\n",
       "      <th>75%</th>\n",
       "      <td>61.000000</td>\n",
       "      <td>1.000000</td>\n",
       "      <td>2.000000</td>\n",
       "      <td>140.000000</td>\n",
       "      <td>274.500000</td>\n",
       "      <td>0.000000</td>\n",
       "      <td>1.000000</td>\n",
       "      <td>166.000000</td>\n",
       "      <td>1.000000</td>\n",
       "      <td>1.600000</td>\n",
       "      <td>2.000000</td>\n",
       "      <td>1.000000</td>\n",
       "      <td>3.000000</td>\n",
       "      <td>1.000000</td>\n",
       "    </tr>\n",
       "    <tr>\n",
       "      <th>max</th>\n",
       "      <td>77.000000</td>\n",
       "      <td>1.000000</td>\n",
       "      <td>3.000000</td>\n",
       "      <td>200.000000</td>\n",
       "      <td>564.000000</td>\n",
       "      <td>1.000000</td>\n",
       "      <td>2.000000</td>\n",
       "      <td>202.000000</td>\n",
       "      <td>1.000000</td>\n",
       "      <td>6.200000</td>\n",
       "      <td>2.000000</td>\n",
       "      <td>4.000000</td>\n",
       "      <td>3.000000</td>\n",
       "      <td>1.000000</td>\n",
       "    </tr>\n",
       "  </tbody>\n",
       "</table>\n",
       "</div>"
      ],
      "text/plain": [
       "              age         sex          cp    trestbps        chol         fbs  \\\n",
       "count  303.000000  303.000000  303.000000  303.000000  303.000000  303.000000   \n",
       "mean    54.366337    0.683168    0.966997  131.623762  246.264026    0.148515   \n",
       "std      9.082101    0.466011    1.032052   17.538143   51.830751    0.356198   \n",
       "min     29.000000    0.000000    0.000000   94.000000  126.000000    0.000000   \n",
       "25%     47.500000    0.000000    0.000000  120.000000  211.000000    0.000000   \n",
       "50%     55.000000    1.000000    1.000000  130.000000  240.000000    0.000000   \n",
       "75%     61.000000    1.000000    2.000000  140.000000  274.500000    0.000000   \n",
       "max     77.000000    1.000000    3.000000  200.000000  564.000000    1.000000   \n",
       "\n",
       "          restecg     thalach       exang     oldpeak       slope          ca  \\\n",
       "count  303.000000  303.000000  303.000000  303.000000  303.000000  303.000000   \n",
       "mean     0.528053  149.646865    0.326733    1.039604    1.399340    0.729373   \n",
       "std      0.525860   22.905161    0.469794    1.161075    0.616226    1.022606   \n",
       "min      0.000000   71.000000    0.000000    0.000000    0.000000    0.000000   \n",
       "25%      0.000000  133.500000    0.000000    0.000000    1.000000    0.000000   \n",
       "50%      1.000000  153.000000    0.000000    0.800000    1.000000    0.000000   \n",
       "75%      1.000000  166.000000    1.000000    1.600000    2.000000    1.000000   \n",
       "max      2.000000  202.000000    1.000000    6.200000    2.000000    4.000000   \n",
       "\n",
       "             thal      target  \n",
       "count  303.000000  303.000000  \n",
       "mean     2.313531    0.544554  \n",
       "std      0.612277    0.498835  \n",
       "min      0.000000    0.000000  \n",
       "25%      2.000000    0.000000  \n",
       "50%      2.000000    1.000000  \n",
       "75%      3.000000    1.000000  \n",
       "max      3.000000    1.000000  "
      ]
     },
     "execution_count": 6,
     "metadata": {},
     "output_type": "execute_result"
    }
   ],
   "source": [
    "df.describe()"
   ]
  },
  {
   "cell_type": "markdown",
   "id": "f7717389",
   "metadata": {},
   "source": [
    "Checking the Number of Duplicates in the Dataset."
   ]
  },
  {
   "cell_type": "code",
   "execution_count": 7,
   "id": "7e5d1006",
   "metadata": {},
   "outputs": [
    {
     "name": "stdout",
     "output_type": "stream",
     "text": [
      "\u001b[1m\u001b[34m Number of Duplicate values: \u001b[0m 1\n"
     ]
    }
   ],
   "source": [
    "duplicate_values=df.duplicated(keep='first').sum()\n",
    "print(colored(' Number of Duplicate values: ','blue',attrs=['bold']),duplicate_values)"
   ]
  },
  {
   "cell_type": "code",
   "execution_count": 8,
   "id": "a0ec7a89",
   "metadata": {
    "scrolled": true
   },
   "outputs": [
    {
     "name": "stdout",
     "output_type": "stream",
     "text": [
      "1 \u001b[1m\u001b[34m Duplicate value was dropped.\u001b[0m\n"
     ]
    }
   ],
   "source": [
    "df.drop_duplicates(inplace=True)\n",
    "print(duplicate_values,colored(' Duplicate value was dropped.','blue',attrs=['bold']))"
   ]
  },
  {
   "cell_type": "code",
   "execution_count": 10,
   "id": "9308e33a",
   "metadata": {},
   "outputs": [],
   "source": [
    "df=df.reset_index()"
   ]
  },
  {
   "cell_type": "markdown",
   "id": "596b1b85",
   "metadata": {},
   "source": [
    "Checking the Number  of Missing Values in the Dataset."
   ]
  },
  {
   "cell_type": "code",
   "execution_count": 11,
   "id": "72d872c0",
   "metadata": {},
   "outputs": [
    {
     "name": "stdout",
     "output_type": "stream",
     "text": [
      "\u001b[1m\u001b[34mNumber of Missing Values\n",
      "\n",
      "\u001b[0m index       0\n",
      "age         0\n",
      "sex         0\n",
      "cp          0\n",
      "trestbps    0\n",
      "chol        0\n",
      "fbs         0\n",
      "restecg     0\n",
      "thalach     0\n",
      "exang       0\n",
      "oldpeak     0\n",
      "slope       0\n",
      "ca          0\n",
      "thal        0\n",
      "target      0\n",
      "dtype: int64\n"
     ]
    }
   ],
   "source": [
    "missing=df.isna().sum().sort_values(ascending=False)\n",
    "print(colored(\"Number of Missing Values\\n\\n\",'blue',attrs=['bold']),missing)"
   ]
  },
  {
   "cell_type": "code",
   "execution_count": 12,
   "id": "422f0bc7",
   "metadata": {},
   "outputs": [
    {
     "name": "stdout",
     "output_type": "stream",
     "text": [
      "\u001b[1m\u001b[34mNumber of Unique Values:\n",
      "\n",
      "\u001b[0m index       302\n",
      "age          41\n",
      "sex           2\n",
      "cp            4\n",
      "trestbps     49\n",
      "chol        152\n",
      "fbs           2\n",
      "restecg       3\n",
      "thalach      91\n",
      "exang         2\n",
      "oldpeak      40\n",
      "slope         3\n",
      "ca            5\n",
      "thal          4\n",
      "target        2\n",
      "dtype: int64\n"
     ]
    }
   ],
   "source": [
    "print(colored('Number of Unique Values:\\n\\n','blue',attrs=['bold']),df.nunique())"
   ]
  },
  {
   "cell_type": "markdown",
   "id": "f658e768",
   "metadata": {},
   "source": [
    "### First Moment Business Decision or Measures of Central Tendency.\n",
    "* It gives the mean, median and mode values of the dataset.\n",
    "* Mean is the average of the data and it easily gets influenced by the outliers.\n",
    "* Median is the middle most value of the dataset.\n",
    "* Mode is the most repeated value of the dataset.\n",
    "* If the mean, median & mode are same then the data has normal distribution otherwise the distribution is not normal."
   ]
  },
  {
   "cell_type": "code",
   "execution_count": 13,
   "id": "c8ffae12",
   "metadata": {},
   "outputs": [
    {
     "data": {
      "text/plain": [
       "index       150.956954\n",
       "age          54.420530\n",
       "sex           0.682119\n",
       "cp            0.963576\n",
       "trestbps    131.602649\n",
       "chol        246.500000\n",
       "fbs           0.149007\n",
       "restecg       0.526490\n",
       "thalach     149.569536\n",
       "exang         0.327815\n",
       "oldpeak       1.043046\n",
       "slope         1.397351\n",
       "ca            0.718543\n",
       "thal          2.314570\n",
       "target        0.543046\n",
       "dtype: float64"
      ]
     },
     "execution_count": 13,
     "metadata": {},
     "output_type": "execute_result"
    }
   ],
   "source": [
    "df.mean()"
   ]
  },
  {
   "cell_type": "code",
   "execution_count": 14,
   "id": "457e7aa8",
   "metadata": {},
   "outputs": [
    {
     "data": {
      "text/plain": [
       "index       150.5\n",
       "age          55.5\n",
       "sex           1.0\n",
       "cp            1.0\n",
       "trestbps    130.0\n",
       "chol        240.5\n",
       "fbs           0.0\n",
       "restecg       1.0\n",
       "thalach     152.5\n",
       "exang         0.0\n",
       "oldpeak       0.8\n",
       "slope         1.0\n",
       "ca            0.0\n",
       "thal          2.0\n",
       "target        1.0\n",
       "dtype: float64"
      ]
     },
     "execution_count": 14,
     "metadata": {},
     "output_type": "execute_result"
    }
   ],
   "source": [
    "df.median()"
   ]
  },
  {
   "cell_type": "code",
   "execution_count": 15,
   "id": "b828d378",
   "metadata": {},
   "outputs": [
    {
     "data": {
      "text/plain": [
       "ModeResult(mode=array([[  0.,  58.,   1.,   0., 120., 197.,   0.,   1., 162.,   0.,   0.,\n",
       "          2.,   0.,   2.,   1.]]), count=array([[  1,  19, 206, 143,  37,   6, 257, 151,  11, 203,  98, 141, 175,\n",
       "        165, 164]]))"
      ]
     },
     "execution_count": 15,
     "metadata": {},
     "output_type": "execute_result"
    }
   ],
   "source": [
    "stats.mode(df)"
   ]
  },
  {
   "cell_type": "markdown",
   "id": "ff80d2c1",
   "metadata": {},
   "source": [
    "### Second Moment Business Decision or Measures of Dispersion\n",
    "* It contains Variance, Standard Deviation & Range.\n",
    "* It gives a general idea about the spread of data in the dataset.\n",
    "* Variance is the average squared distance of each data point from the mean.\n",
    "* Standard deviation is the root of the variance.\n",
    "* Range is the difference between the max and min data point of the dataset."
   ]
  },
  {
   "cell_type": "code",
   "execution_count": 16,
   "id": "437c14a9",
   "metadata": {},
   "outputs": [
    {
     "data": {
      "text/plain": [
       "index       7700.938340\n",
       "age           81.865757\n",
       "sex            0.217553\n",
       "cp             1.065114\n",
       "trestbps     308.472817\n",
       "chol        2678.423588\n",
       "fbs            0.127225\n",
       "restecg        0.276705\n",
       "thalach      524.571561\n",
       "exang          0.221084\n",
       "oldpeak        1.348971\n",
       "slope          0.379794\n",
       "ca             1.013542\n",
       "thal           0.375800\n",
       "target         0.248971\n",
       "dtype: float64"
      ]
     },
     "execution_count": 16,
     "metadata": {},
     "output_type": "execute_result"
    }
   ],
   "source": [
    "df.var()"
   ]
  },
  {
   "cell_type": "code",
   "execution_count": 17,
   "id": "f2adb8c6",
   "metadata": {},
   "outputs": [
    {
     "data": {
      "text/plain": [
       "index       87.754990\n",
       "age          9.047970\n",
       "sex          0.466426\n",
       "cp           1.032044\n",
       "trestbps    17.563394\n",
       "chol        51.753489\n",
       "fbs          0.356686\n",
       "restecg      0.526027\n",
       "thalach     22.903527\n",
       "exang        0.470196\n",
       "oldpeak      1.161452\n",
       "slope        0.616274\n",
       "ca           1.006748\n",
       "thal         0.613026\n",
       "target       0.498970\n",
       "dtype: float64"
      ]
     },
     "execution_count": 17,
     "metadata": {},
     "output_type": "execute_result"
    }
   ],
   "source": [
    "df.std()"
   ]
  },
  {
   "cell_type": "code",
   "execution_count": 18,
   "id": "6f511f1f",
   "metadata": {},
   "outputs": [
    {
     "data": {
      "text/plain": [
       "index       302.0\n",
       "age          48.0\n",
       "sex           1.0\n",
       "cp            3.0\n",
       "trestbps    106.0\n",
       "chol        438.0\n",
       "fbs           1.0\n",
       "restecg       2.0\n",
       "thalach     131.0\n",
       "exang         1.0\n",
       "oldpeak       6.2\n",
       "slope         2.0\n",
       "ca            4.0\n",
       "thal          3.0\n",
       "target        1.0\n",
       "dtype: float64"
      ]
     },
     "execution_count": 18,
     "metadata": {},
     "output_type": "execute_result"
    }
   ],
   "source": [
    "Range=df.max()-df.min()\n",
    "Range"
   ]
  },
  {
   "cell_type": "markdown",
   "id": "28a243e8",
   "metadata": {},
   "source": [
    "### THIRD MOMENT BUSINESS DECISION OR SKEWNESS\n",
    "* Skewness gives the measure of asymmetry in a data.\n",
    "* The types of skewness are as follows:\n",
    "    * Negative skewness or left skewed.\n",
    "    * Positive skewness or right skewed.\n",
    "    * If skewness = 0 then it is normally distributed."
   ]
  },
  {
   "cell_type": "code",
   "execution_count": 19,
   "id": "4a418d49",
   "metadata": {},
   "outputs": [
    {
     "data": {
      "text/plain": [
       "index       0.001471\n",
       "age        -0.203743\n",
       "sex        -0.786120\n",
       "cp          0.493022\n",
       "trestbps    0.716541\n",
       "chol        1.147332\n",
       "fbs         1.981201\n",
       "restecg     0.169467\n",
       "thalach    -0.532671\n",
       "exang       0.737281\n",
       "oldpeak     1.266173\n",
       "slope      -0.503247\n",
       "ca          1.295738\n",
       "thal       -0.481232\n",
       "target     -0.173691\n",
       "dtype: float64"
      ]
     },
     "execution_count": 19,
     "metadata": {},
     "output_type": "execute_result"
    }
   ],
   "source": [
    "df.skew()"
   ]
  },
  {
   "cell_type": "markdown",
   "id": "66e9277b",
   "metadata": {},
   "source": [
    "### FOURTH MOMENT BUSINESS DECISION OR KURTOSIS\n",
    "* Kurtosis is the peakedness of the distribution.\n",
    "* Negative kurtosis implies a wider peak and thinner tails.\n",
    "* Positive kurtosis implies a narrow peak and wider tails."
   ]
  },
  {
   "cell_type": "code",
   "execution_count": 20,
   "id": "488baf39",
   "metadata": {
    "scrolled": true
   },
   "outputs": [
    {
     "data": {
      "text/plain": [
       "index      -1.205773\n",
       "age        -0.527512\n",
       "sex        -1.391273\n",
       "cp         -1.183729\n",
       "trestbps    0.922996\n",
       "chol        4.542591\n",
       "fbs         1.937947\n",
       "restecg    -1.359464\n",
       "thalach    -0.062186\n",
       "exang      -1.466170\n",
       "oldpeak     1.567876\n",
       "slope      -0.629935\n",
       "ca          0.781003\n",
       "thal        0.295855\n",
       "target     -1.983008\n",
       "dtype: float64"
      ]
     },
     "execution_count": 20,
     "metadata": {},
     "output_type": "execute_result"
    }
   ],
   "source": [
    "df.kurt()"
   ]
  },
  {
   "cell_type": "markdown",
   "id": "55e7aebe",
   "metadata": {},
   "source": [
    "### GRAPHICAL REPRESENTATION"
   ]
  },
  {
   "cell_type": "markdown",
   "id": "7f7befb7",
   "metadata": {},
   "source": [
    "Plotting histograms of each variable."
   ]
  },
  {
   "cell_type": "code",
   "execution_count": 21,
   "id": "e440e9fa",
   "metadata": {},
   "outputs": [
    {
     "name": "stderr",
     "output_type": "stream",
     "text": [
      "C:\\Users\\lenny\\AppData\\Local\\Temp\\ipykernel_12900\\1005195116.py:3: UserWarning: To output multiple subplots, the figure containing the passed axes is being cleared.\n",
      "  df.hist(ax=ax)\n"
     ]
    },
    {
     "data": {
      "text/plain": [
       "<function matplotlib.pyplot.show(close=None, block=None)>"
      ]
     },
     "execution_count": 21,
     "metadata": {},
     "output_type": "execute_result"
    },
    {
     "data": {
      "image/png": "[encoded data removed]",
      "text/plain": [
       "<Figure size 1440x864 with 16 Axes>"
      ]
     },
     "metadata": {
      "needs_background": "light"
     },
     "output_type": "display_data"
    }
   ],
   "source": [
    "fig=plt.figure(figsize=(20,12))\n",
    "ax=fig.gca()\n",
    "df.hist(ax=ax)\n",
    "plt.show"
   ]
  },
  {
   "cell_type": "markdown",
   "id": "ff80032c",
   "metadata": {},
   "source": [
    "### BIVARIATE ANALYSIS"
   ]
  },
  {
   "cell_type": "code",
   "execution_count": 22,
   "id": "1e37118b",
   "metadata": {},
   "outputs": [
    {
     "name": "stderr",
     "output_type": "stream",
     "text": [
      "C:\\Users\\lenny\\anaconda3\\lib\\site-packages\\seaborn\\_decorators.py:36: FutureWarning: Pass the following variables as keyword args: x, y. From version 0.12, the only valid positional argument will be `data`, and passing other arguments without an explicit keyword will result in an error or misinterpretation.\n",
      "  warnings.warn(\n"
     ]
    },
    {
     "data": {
      "image/png": "[encoded data removed]",
      "text/plain": [
       "<Figure size 1080x576 with 1 Axes>"
      ]
     },
     "metadata": {
      "needs_background": "light"
     },
     "output_type": "display_data"
    }
   ],
   "source": [
    "plt.figure(figsize=(15,8))\n",
    "sns.scatterplot(df.index,df['chol'])\n",
    "plt.title(\"Bivariate Analysis using Scatterplot\")\n",
    "plt.show()"
   ]
  },
  {
   "cell_type": "markdown",
   "id": "728e8a4d",
   "metadata": {},
   "source": [
    "Plotting boxplots of each variable."
   ]
  },
  {
   "cell_type": "code",
   "execution_count": 23,
   "id": "21a9db01",
   "metadata": {},
   "outputs": [
    {
     "name": "stderr",
     "output_type": "stream",
     "text": [
      "C:\\Users\\lenny\\anaconda3\\lib\\site-packages\\seaborn\\_decorators.py:36: FutureWarning: Pass the following variable as a keyword arg: x. From version 0.12, the only valid positional argument will be `data`, and passing other arguments without an explicit keyword will result in an error or misinterpretation.\n",
      "  warnings.warn(\n"
     ]
    },
    {
     "data": {
      "text/plain": [
       "<AxesSubplot:xlabel='age'>"
      ]
     },
     "execution_count": 23,
     "metadata": {},
     "output_type": "execute_result"
    },
    {
     "data": {
      "image/png": "[encoded data removed]",
      "text/plain": [
       "<Figure size 432x288 with 1 Axes>"
      ]
     },
     "metadata": {
      "needs_background": "light"
     },
     "output_type": "display_data"
    }
   ],
   "source": [
    "sns.boxplot(df[\"age\"])"
   ]
  },
  {
   "cell_type": "code",
   "execution_count": 24,
   "id": "38ca1f30",
   "metadata": {
    "scrolled": true
   },
   "outputs": [
    {
     "name": "stderr",
     "output_type": "stream",
     "text": [
      "C:\\Users\\lenny\\anaconda3\\lib\\site-packages\\seaborn\\_decorators.py:36: FutureWarning: Pass the following variable as a keyword arg: x. From version 0.12, the only valid positional argument will be `data`, and passing other arguments without an explicit keyword will result in an error or misinterpretation.\n",
      "  warnings.warn(\n"
     ]
    },
    {
     "data": {
      "text/plain": [
       "<AxesSubplot:xlabel='trestbps'>"
      ]
     },
     "execution_count": 24,
     "metadata": {},
     "output_type": "execute_result"
    },
    {
     "data": {
      "image/png": "[encoded data removed]",
      "text/plain": [
       "<Figure size 432x288 with 1 Axes>"
      ]
     },
     "metadata": {
      "needs_background": "light"
     },
     "output_type": "display_data"
    }
   ],
   "source": [
    "sns.boxplot(df['trestbps'])"
   ]
  },
  {
   "cell_type": "code",
   "execution_count": 25,
   "id": "22ad5cc1",
   "metadata": {},
   "outputs": [
    {
     "name": "stderr",
     "output_type": "stream",
     "text": [
      "C:\\Users\\lenny\\anaconda3\\lib\\site-packages\\seaborn\\_decorators.py:36: FutureWarning: Pass the following variable as a keyword arg: x. From version 0.12, the only valid positional argument will be `data`, and passing other arguments without an explicit keyword will result in an error or misinterpretation.\n",
      "  warnings.warn(\n"
     ]
    },
    {
     "data": {
      "text/plain": [
       "<AxesSubplot:xlabel='chol'>"
      ]
     },
     "execution_count": 25,
     "metadata": {},
     "output_type": "execute_result"
    },
    {
     "data": {
      "image/png": "[encoded data removed]",
      "text/plain": [
       "<Figure size 432x288 with 1 Axes>"
      ]
     },
     "metadata": {
      "needs_background": "light"
     },
     "output_type": "display_data"
    }
   ],
   "source": [
    "sns.boxplot(df['chol'])"
   ]
  },
  {
   "cell_type": "code",
   "execution_count": 26,
   "id": "df665206",
   "metadata": {},
   "outputs": [
    {
     "name": "stderr",
     "output_type": "stream",
     "text": [
      "C:\\Users\\lenny\\anaconda3\\lib\\site-packages\\seaborn\\_decorators.py:36: FutureWarning: Pass the following variable as a keyword arg: x. From version 0.12, the only valid positional argument will be `data`, and passing other arguments without an explicit keyword will result in an error or misinterpretation.\n",
      "  warnings.warn(\n"
     ]
    },
    {
     "data": {
      "text/plain": [
       "<AxesSubplot:xlabel='thalach'>"
      ]
     },
     "execution_count": 26,
     "metadata": {},
     "output_type": "execute_result"
    },
    {
     "data": {
      "image/png": "[encoded data removed]",
      "text/plain": [
       "<Figure size 432x288 with 1 Axes>"
      ]
     },
     "metadata": {
      "needs_background": "light"
     },
     "output_type": "display_data"
    }
   ],
   "source": [
    "sns.boxplot(df['thalach'])"
   ]
  },
  {
   "cell_type": "code",
   "execution_count": 27,
   "id": "35526648",
   "metadata": {},
   "outputs": [
    {
     "name": "stderr",
     "output_type": "stream",
     "text": [
      "C:\\Users\\lenny\\anaconda3\\lib\\site-packages\\seaborn\\_decorators.py:36: FutureWarning: Pass the following variable as a keyword arg: x. From version 0.12, the only valid positional argument will be `data`, and passing other arguments without an explicit keyword will result in an error or misinterpretation.\n",
      "  warnings.warn(\n"
     ]
    },
    {
     "data": {
      "text/plain": [
       "<AxesSubplot:xlabel='oldpeak'>"
      ]
     },
     "execution_count": 27,
     "metadata": {},
     "output_type": "execute_result"
    },
    {
     "data": {
      "image/png": "[encoded data removed]",
      "text/plain": [
       "<Figure size 432x288 with 1 Axes>"
      ]
     },
     "metadata": {
      "needs_background": "light"
     },
     "output_type": "display_data"
    }
   ],
   "source": [
    "sns.boxplot(df['oldpeak'])"
   ]
  },
  {
   "cell_type": "markdown",
   "id": "e8051d60",
   "metadata": {},
   "source": [
    "From the boxplots it is very evident that there are outliers in the dataset so using the below custom function calculated the number of outliers in each variable."
   ]
  },
  {
   "cell_type": "code",
   "execution_count": 28,
   "id": "2ff497e6",
   "metadata": {},
   "outputs": [],
   "source": [
    "#Defining a custom function to get the number of outliers present as doing the steps again would just add extra lines \n",
    "def outlier_func(i):\n",
    "    x=i.quantile(0.25)-((i.quantile(0.75)-i.quantile(0.25))*1.5)\n",
    "    y=i.quantile(0.75)+((i.quantile(0.75)-i.quantile(0.25))*1.5)\n",
    "    outliers= np.where(i > y, True, np.where(i < x, True, False))\n",
    "    return(outliers)"
   ]
  },
  {
   "cell_type": "code",
   "execution_count": 29,
   "id": "ba1f1c2e",
   "metadata": {},
   "outputs": [
    {
     "data": {
      "text/plain": [
       "9"
      ]
     },
     "execution_count": 29,
     "metadata": {},
     "output_type": "execute_result"
    }
   ],
   "source": [
    "sum(outlier_func(df[\"trestbps\"]))"
   ]
  },
  {
   "cell_type": "code",
   "execution_count": 30,
   "id": "39a01481",
   "metadata": {},
   "outputs": [
    {
     "data": {
      "text/plain": [
       "5"
      ]
     },
     "execution_count": 30,
     "metadata": {},
     "output_type": "execute_result"
    }
   ],
   "source": [
    "sum(outlier_func(df[\"chol\"]))"
   ]
  },
  {
   "cell_type": "code",
   "execution_count": 31,
   "id": "1353e099",
   "metadata": {},
   "outputs": [
    {
     "data": {
      "text/plain": [
       "1"
      ]
     },
     "execution_count": 31,
     "metadata": {},
     "output_type": "execute_result"
    }
   ],
   "source": [
    "sum(outlier_func(df[\"thalach\"]))"
   ]
  },
  {
   "cell_type": "code",
   "execution_count": 32,
   "id": "acff0c07",
   "metadata": {},
   "outputs": [
    {
     "data": {
      "text/plain": [
       "5"
      ]
     },
     "execution_count": 32,
     "metadata": {},
     "output_type": "execute_result"
    }
   ],
   "source": [
    "sum(outlier_func(df[\"oldpeak\"]))"
   ]
  },
  {
   "cell_type": "markdown",
   "id": "b64bffa1",
   "metadata": {},
   "source": [
    "Using winsorization to rectify the outliers to avoid data lose.The module used for Winsorization is feature_engine"
   ]
  },
  {
   "cell_type": "code",
   "execution_count": 33,
   "id": "3a5415f6",
   "metadata": {},
   "outputs": [
    {
     "data": {
      "text/plain": [
       "0"
      ]
     },
     "execution_count": 33,
     "metadata": {},
     "output_type": "execute_result"
    }
   ],
   "source": [
    "winsor= Winsorizer(capping_method='iqr',\n",
    "                   tail='both',\n",
    "                   fold=1.5,\n",
    "                   variables=[\"trestbps\"])\n",
    "\n",
    "df[\"trestbps\"]= winsor.fit_transform(df[[\"trestbps\"]])\n",
    "sum(outlier_func(df[\"trestbps\"]))"
   ]
  },
  {
   "cell_type": "code",
   "execution_count": 34,
   "id": "3c5bfa60",
   "metadata": {},
   "outputs": [
    {
     "data": {
      "text/plain": [
       "0"
      ]
     },
     "execution_count": 34,
     "metadata": {},
     "output_type": "execute_result"
    }
   ],
   "source": [
    "winsor= Winsorizer(capping_method='iqr',\n",
    "                   tail='both',\n",
    "                   fold=1.5,\n",
    "                   variables=[\"chol\"])\n",
    "\n",
    "df[\"chol\"]= winsor.fit_transform(df[[\"chol\"]])\n",
    "sum(outlier_func(df[\"chol\"]))"
   ]
  },
  {
   "cell_type": "code",
   "execution_count": 35,
   "id": "cd374f5f",
   "metadata": {},
   "outputs": [
    {
     "data": {
      "text/plain": [
       "0"
      ]
     },
     "execution_count": 35,
     "metadata": {},
     "output_type": "execute_result"
    }
   ],
   "source": [
    "winsor=Winsorizer(capping_method='iqr',\n",
    "                 tail='both',\n",
    "                 fold=1.5,\n",
    "                 variables=['thalach'])\n",
    "df['thalach']=winsor.fit_transform(df[['thalach']])\n",
    "sum(outlier_func(df['thalach']))"
   ]
  },
  {
   "cell_type": "code",
   "execution_count": 36,
   "id": "838d40a2",
   "metadata": {},
   "outputs": [
    {
     "data": {
      "text/plain": [
       "0"
      ]
     },
     "execution_count": 36,
     "metadata": {},
     "output_type": "execute_result"
    }
   ],
   "source": [
    "from feature_engine.outliers import Winsorizer\n",
    "winsor=Winsorizer(capping_method='iqr',\n",
    "                 tail='both',\n",
    "                 fold=1.5,\n",
    "                 variables=['oldpeak'])\n",
    "df['oldpeak']=winsor.fit_transform(df[['oldpeak']])\n",
    "sum(outlier_func(df['oldpeak']))"
   ]
  },
  {
   "cell_type": "markdown",
   "id": "5cddab2f",
   "metadata": {},
   "source": [
    "Again plotting boxplots to show the difference in the boxplots after rectifying the outliers."
   ]
  },
  {
   "cell_type": "code",
   "execution_count": 37,
   "id": "ae84523a",
   "metadata": {
    "scrolled": true
   },
   "outputs": [
    {
     "name": "stderr",
     "output_type": "stream",
     "text": [
      "C:\\Users\\lenny\\anaconda3\\lib\\site-packages\\seaborn\\_decorators.py:36: FutureWarning: Pass the following variable as a keyword arg: x. From version 0.12, the only valid positional argument will be `data`, and passing other arguments without an explicit keyword will result in an error or misinterpretation.\n",
      "  warnings.warn(\n"
     ]
    },
    {
     "data": {
      "text/plain": [
       "<AxesSubplot:xlabel='trestbps'>"
      ]
     },
     "execution_count": 37,
     "metadata": {},
     "output_type": "execute_result"
    },
    {
     "data": {
      "image/png": "[encoded data removed]",
      "text/plain": [
       "<Figure size 432x288 with 1 Axes>"
      ]
     },
     "metadata": {
      "needs_background": "light"
     },
     "output_type": "display_data"
    }
   ],
   "source": [
    "sns.boxplot(df['trestbps'])"
   ]
  },
  {
   "cell_type": "code",
   "execution_count": 38,
   "id": "1306f4e7",
   "metadata": {
    "scrolled": true
   },
   "outputs": [
    {
     "name": "stderr",
     "output_type": "stream",
     "text": [
      "C:\\Users\\lenny\\anaconda3\\lib\\site-packages\\seaborn\\_decorators.py:36: FutureWarning: Pass the following variable as a keyword arg: x. From version 0.12, the only valid positional argument will be `data`, and passing other arguments without an explicit keyword will result in an error or misinterpretation.\n",
      "  warnings.warn(\n"
     ]
    },
    {
     "data": {
      "text/plain": [
       "<AxesSubplot:xlabel='chol'>"
      ]
     },
     "execution_count": 38,
     "metadata": {},
     "output_type": "execute_result"
    },
    {
     "data": {
      "image/png": "[encoded data removed]",
      "text/plain": [
       "<Figure size 432x288 with 1 Axes>"
      ]
     },
     "metadata": {
      "needs_background": "light"
     },
     "output_type": "display_data"
    }
   ],
   "source": [
    "sns.boxplot(df['chol'])"
   ]
  },
  {
   "cell_type": "code",
   "execution_count": 39,
   "id": "4a63b0f7",
   "metadata": {},
   "outputs": [
    {
     "name": "stderr",
     "output_type": "stream",
     "text": [
      "C:\\Users\\lenny\\anaconda3\\lib\\site-packages\\seaborn\\_decorators.py:36: FutureWarning: Pass the following variable as a keyword arg: x. From version 0.12, the only valid positional argument will be `data`, and passing other arguments without an explicit keyword will result in an error or misinterpretation.\n",
      "  warnings.warn(\n"
     ]
    },
    {
     "data": {
      "text/plain": [
       "<AxesSubplot:xlabel='thalach'>"
      ]
     },
     "execution_count": 39,
     "metadata": {},
     "output_type": "execute_result"
    },
    {
     "data": {
      "image/png": "[encoded data removed]",
      "text/plain": [
       "<Figure size 432x288 with 1 Axes>"
      ]
     },
     "metadata": {
      "needs_background": "light"
     },
     "output_type": "display_data"
    }
   ],
   "source": [
    "sns.boxplot(df['thalach'])"
   ]
  },
  {
   "cell_type": "code",
   "execution_count": 40,
   "id": "61a57d58",
   "metadata": {},
   "outputs": [
    {
     "name": "stderr",
     "output_type": "stream",
     "text": [
      "C:\\Users\\lenny\\anaconda3\\lib\\site-packages\\seaborn\\_decorators.py:36: FutureWarning: Pass the following variable as a keyword arg: x. From version 0.12, the only valid positional argument will be `data`, and passing other arguments without an explicit keyword will result in an error or misinterpretation.\n",
      "  warnings.warn(\n"
     ]
    },
    {
     "data": {
      "text/plain": [
       "<AxesSubplot:xlabel='oldpeak'>"
      ]
     },
     "execution_count": 40,
     "metadata": {},
     "output_type": "execute_result"
    },
    {
     "data": {
      "image/png": "[encoded data removed]",
      "text/plain": [
       "<Figure size 432x288 with 1 Axes>"
      ]
     },
     "metadata": {
      "needs_background": "light"
     },
     "output_type": "display_data"
    }
   ],
   "source": [
    "sns.boxplot(df['oldpeak'])"
   ]
  },
  {
   "cell_type": "markdown",
   "id": "3563d42a",
   "metadata": {},
   "source": [
    "### NORMALIZATION\n",
    "Before clustering the data is scaled using normalization "
   ]
  },
  {
   "cell_type": "markdown",
   "id": "ebc801ec",
   "metadata": {},
   "source": [
    "Using the MinMaxScaler from sklearn.preprocessing library we do normalization and from the descriptive statistics we can see that the values are between 0 and 1."
   ]
  },
  {
   "cell_type": "code",
   "execution_count": 41,
   "id": "3f0f73c2",
   "metadata": {},
   "outputs": [
    {
     "data": {
      "text/html": [
       "<div>\n",
       "<style scoped>\n",
       "    .dataframe tbody tr th:only-of-type {\n",
       "        vertical-align: middle;\n",
       "    }\n",
       "\n",
       "    .dataframe tbody tr th {\n",
       "        vertical-align: top;\n",
       "    }\n",
       "\n",
       "    .dataframe thead th {\n",
       "        text-align: right;\n",
       "    }\n",
       "</style>\n",
       "<table border=\"1\" class=\"dataframe\">\n",
       "  <thead>\n",
       "    <tr style=\"text-align: right;\">\n",
       "      <th></th>\n",
       "      <th>index</th>\n",
       "      <th>age</th>\n",
       "      <th>sex</th>\n",
       "      <th>cp</th>\n",
       "      <th>trestbps</th>\n",
       "      <th>chol</th>\n",
       "      <th>fbs</th>\n",
       "      <th>restecg</th>\n",
       "      <th>thalach</th>\n",
       "      <th>exang</th>\n",
       "      <th>oldpeak</th>\n",
       "      <th>slope</th>\n",
       "      <th>ca</th>\n",
       "      <th>thal</th>\n",
       "      <th>target</th>\n",
       "    </tr>\n",
       "  </thead>\n",
       "  <tbody>\n",
       "    <tr>\n",
       "      <th>0</th>\n",
       "      <td>0.000000</td>\n",
       "      <td>0.708333</td>\n",
       "      <td>1.0</td>\n",
       "      <td>1.000000</td>\n",
       "      <td>0.671053</td>\n",
       "      <td>0.437852</td>\n",
       "      <td>1.0</td>\n",
       "      <td>0.0</td>\n",
       "      <td>0.558855</td>\n",
       "      <td>0.0</td>\n",
       "      <td>0.575</td>\n",
       "      <td>0.0</td>\n",
       "      <td>0.0</td>\n",
       "      <td>0.333333</td>\n",
       "      <td>1.0</td>\n",
       "    </tr>\n",
       "    <tr>\n",
       "      <th>1</th>\n",
       "      <td>0.003311</td>\n",
       "      <td>0.166667</td>\n",
       "      <td>1.0</td>\n",
       "      <td>0.666667</td>\n",
       "      <td>0.473684</td>\n",
       "      <td>0.507417</td>\n",
       "      <td>0.0</td>\n",
       "      <td>0.5</td>\n",
       "      <td>0.872747</td>\n",
       "      <td>0.0</td>\n",
       "      <td>0.875</td>\n",
       "      <td>0.0</td>\n",
       "      <td>0.0</td>\n",
       "      <td>0.666667</td>\n",
       "      <td>1.0</td>\n",
       "    </tr>\n",
       "    <tr>\n",
       "      <th>2</th>\n",
       "      <td>0.006623</td>\n",
       "      <td>0.250000</td>\n",
       "      <td>0.0</td>\n",
       "      <td>0.333333</td>\n",
       "      <td>0.473684</td>\n",
       "      <td>0.319182</td>\n",
       "      <td>0.0</td>\n",
       "      <td>0.0</td>\n",
       "      <td>0.745493</td>\n",
       "      <td>0.0</td>\n",
       "      <td>0.350</td>\n",
       "      <td>1.0</td>\n",
       "      <td>0.0</td>\n",
       "      <td>0.666667</td>\n",
       "      <td>1.0</td>\n",
       "    </tr>\n",
       "  </tbody>\n",
       "</table>\n",
       "</div>"
      ],
      "text/plain": [
       "      index       age  sex        cp  trestbps      chol  fbs  restecg  \\\n",
       "0  0.000000  0.708333  1.0  1.000000  0.671053  0.437852  1.0      0.0   \n",
       "1  0.003311  0.166667  1.0  0.666667  0.473684  0.507417  0.0      0.5   \n",
       "2  0.006623  0.250000  0.0  0.333333  0.473684  0.319182  0.0      0.0   \n",
       "\n",
       "    thalach  exang  oldpeak  slope   ca      thal  target  \n",
       "0  0.558855    0.0    0.575    0.0  0.0  0.333333     1.0  \n",
       "1  0.872747    0.0    0.875    0.0  0.0  0.666667     1.0  \n",
       "2  0.745493    0.0    0.350    1.0  0.0  0.666667     1.0  "
      ]
     },
     "execution_count": 41,
     "metadata": {},
     "output_type": "execute_result"
    }
   ],
   "source": [
    "from sklearn.preprocessing import MinMaxScaler\n",
    "minmax=MinMaxScaler()\n",
    "df_minmax=pd.DataFrame(minmax.fit_transform(df),columns=df.columns,index=df.index)\n",
    "df_minmax.head(3)"
   ]
  },
  {
   "cell_type": "code",
   "execution_count": 42,
   "id": "b4793fd4",
   "metadata": {},
   "outputs": [
    {
     "data": {
      "text/html": [
       "<div>\n",
       "<style scoped>\n",
       "    .dataframe tbody tr th:only-of-type {\n",
       "        vertical-align: middle;\n",
       "    }\n",
       "\n",
       "    .dataframe tbody tr th {\n",
       "        vertical-align: top;\n",
       "    }\n",
       "\n",
       "    .dataframe thead th {\n",
       "        text-align: right;\n",
       "    }\n",
       "</style>\n",
       "<table border=\"1\" class=\"dataframe\">\n",
       "  <thead>\n",
       "    <tr style=\"text-align: right;\">\n",
       "      <th></th>\n",
       "      <th>index</th>\n",
       "      <th>age</th>\n",
       "      <th>sex</th>\n",
       "      <th>cp</th>\n",
       "      <th>trestbps</th>\n",
       "      <th>chol</th>\n",
       "      <th>fbs</th>\n",
       "      <th>restecg</th>\n",
       "      <th>thalach</th>\n",
       "      <th>exang</th>\n",
       "      <th>oldpeak</th>\n",
       "      <th>slope</th>\n",
       "      <th>ca</th>\n",
       "      <th>thal</th>\n",
       "      <th>target</th>\n",
       "    </tr>\n",
       "  </thead>\n",
       "  <tbody>\n",
       "    <tr>\n",
       "      <th>count</th>\n",
       "      <td>302.000000</td>\n",
       "      <td>302.000000</td>\n",
       "      <td>302.000000</td>\n",
       "      <td>302.000000</td>\n",
       "      <td>302.000000</td>\n",
       "      <td>302.000000</td>\n",
       "      <td>302.000000</td>\n",
       "      <td>302.000000</td>\n",
       "      <td>302.000000</td>\n",
       "      <td>302.000000</td>\n",
       "      <td>302.000000</td>\n",
       "      <td>302.000000</td>\n",
       "      <td>302.000000</td>\n",
       "      <td>302.000000</td>\n",
       "      <td>302.000000</td>\n",
       "    </tr>\n",
       "    <tr>\n",
       "      <th>mean</th>\n",
       "      <td>0.499857</td>\n",
       "      <td>0.529594</td>\n",
       "      <td>0.682119</td>\n",
       "      <td>0.321192</td>\n",
       "      <td>0.490241</td>\n",
       "      <td>0.488500</td>\n",
       "      <td>0.149007</td>\n",
       "      <td>0.263245</td>\n",
       "      <td>0.555572</td>\n",
       "      <td>0.327815</td>\n",
       "      <td>0.256954</td>\n",
       "      <td>0.698675</td>\n",
       "      <td>0.179636</td>\n",
       "      <td>0.771523</td>\n",
       "      <td>0.543046</td>\n",
       "    </tr>\n",
       "    <tr>\n",
       "      <th>std</th>\n",
       "      <td>0.290579</td>\n",
       "      <td>0.188499</td>\n",
       "      <td>0.466426</td>\n",
       "      <td>0.344015</td>\n",
       "      <td>0.218490</td>\n",
       "      <td>0.194319</td>\n",
       "      <td>0.356686</td>\n",
       "      <td>0.263014</td>\n",
       "      <td>0.193137</td>\n",
       "      <td>0.470196</td>\n",
       "      <td>0.277599</td>\n",
       "      <td>0.308137</td>\n",
       "      <td>0.251687</td>\n",
       "      <td>0.204342</td>\n",
       "      <td>0.498970</td>\n",
       "    </tr>\n",
       "    <tr>\n",
       "      <th>min</th>\n",
       "      <td>0.000000</td>\n",
       "      <td>0.000000</td>\n",
       "      <td>0.000000</td>\n",
       "      <td>0.000000</td>\n",
       "      <td>0.000000</td>\n",
       "      <td>0.000000</td>\n",
       "      <td>0.000000</td>\n",
       "      <td>0.000000</td>\n",
       "      <td>0.000000</td>\n",
       "      <td>0.000000</td>\n",
       "      <td>0.000000</td>\n",
       "      <td>0.000000</td>\n",
       "      <td>0.000000</td>\n",
       "      <td>0.000000</td>\n",
       "      <td>0.000000</td>\n",
       "    </tr>\n",
       "    <tr>\n",
       "      <th>25%</th>\n",
       "      <td>0.249172</td>\n",
       "      <td>0.395833</td>\n",
       "      <td>0.000000</td>\n",
       "      <td>0.000000</td>\n",
       "      <td>0.342105</td>\n",
       "      <td>0.347826</td>\n",
       "      <td>0.000000</td>\n",
       "      <td>0.000000</td>\n",
       "      <td>0.416755</td>\n",
       "      <td>0.000000</td>\n",
       "      <td>0.000000</td>\n",
       "      <td>0.500000</td>\n",
       "      <td>0.000000</td>\n",
       "      <td>0.666667</td>\n",
       "      <td>0.000000</td>\n",
       "    </tr>\n",
       "    <tr>\n",
       "      <th>50%</th>\n",
       "      <td>0.498344</td>\n",
       "      <td>0.552083</td>\n",
       "      <td>1.000000</td>\n",
       "      <td>0.333333</td>\n",
       "      <td>0.473684</td>\n",
       "      <td>0.468542</td>\n",
       "      <td>0.000000</td>\n",
       "      <td>0.500000</td>\n",
       "      <td>0.580064</td>\n",
       "      <td>0.000000</td>\n",
       "      <td>0.200000</td>\n",
       "      <td>0.500000</td>\n",
       "      <td>0.000000</td>\n",
       "      <td>0.666667</td>\n",
       "      <td>1.000000</td>\n",
       "    </tr>\n",
       "    <tr>\n",
       "      <th>75%</th>\n",
       "      <td>0.750828</td>\n",
       "      <td>0.666667</td>\n",
       "      <td>1.000000</td>\n",
       "      <td>0.666667</td>\n",
       "      <td>0.605263</td>\n",
       "      <td>0.608696</td>\n",
       "      <td>0.000000</td>\n",
       "      <td>0.500000</td>\n",
       "      <td>0.694592</td>\n",
       "      <td>1.000000</td>\n",
       "      <td>0.400000</td>\n",
       "      <td>1.000000</td>\n",
       "      <td>0.250000</td>\n",
       "      <td>1.000000</td>\n",
       "      <td>1.000000</td>\n",
       "    </tr>\n",
       "    <tr>\n",
       "      <th>max</th>\n",
       "      <td>1.000000</td>\n",
       "      <td>1.000000</td>\n",
       "      <td>1.000000</td>\n",
       "      <td>1.000000</td>\n",
       "      <td>1.000000</td>\n",
       "      <td>1.000000</td>\n",
       "      <td>1.000000</td>\n",
       "      <td>1.000000</td>\n",
       "      <td>1.000000</td>\n",
       "      <td>1.000000</td>\n",
       "      <td>1.000000</td>\n",
       "      <td>1.000000</td>\n",
       "      <td>1.000000</td>\n",
       "      <td>1.000000</td>\n",
       "      <td>1.000000</td>\n",
       "    </tr>\n",
       "  </tbody>\n",
       "</table>\n",
       "</div>"
      ],
      "text/plain": [
       "            index         age         sex          cp    trestbps        chol  \\\n",
       "count  302.000000  302.000000  302.000000  302.000000  302.000000  302.000000   \n",
       "mean     0.499857    0.529594    0.682119    0.321192    0.490241    0.488500   \n",
       "std      0.290579    0.188499    0.466426    0.344015    0.218490    0.194319   \n",
       "min      0.000000    0.000000    0.000000    0.000000    0.000000    0.000000   \n",
       "25%      0.249172    0.395833    0.000000    0.000000    0.342105    0.347826   \n",
       "50%      0.498344    0.552083    1.000000    0.333333    0.473684    0.468542   \n",
       "75%      0.750828    0.666667    1.000000    0.666667    0.605263    0.608696   \n",
       "max      1.000000    1.000000    1.000000    1.000000    1.000000    1.000000   \n",
       "\n",
       "              fbs     restecg     thalach       exang     oldpeak       slope  \\\n",
       "count  302.000000  302.000000  302.000000  302.000000  302.000000  302.000000   \n",
       "mean     0.149007    0.263245    0.555572    0.327815    0.256954    0.698675   \n",
       "std      0.356686    0.263014    0.193137    0.470196    0.277599    0.308137   \n",
       "min      0.000000    0.000000    0.000000    0.000000    0.000000    0.000000   \n",
       "25%      0.000000    0.000000    0.416755    0.000000    0.000000    0.500000   \n",
       "50%      0.000000    0.500000    0.580064    0.000000    0.200000    0.500000   \n",
       "75%      0.000000    0.500000    0.694592    1.000000    0.400000    1.000000   \n",
       "max      1.000000    1.000000    1.000000    1.000000    1.000000    1.000000   \n",
       "\n",
       "               ca        thal      target  \n",
       "count  302.000000  302.000000  302.000000  \n",
       "mean     0.179636    0.771523    0.543046  \n",
       "std      0.251687    0.204342    0.498970  \n",
       "min      0.000000    0.000000    0.000000  \n",
       "25%      0.000000    0.666667    0.000000  \n",
       "50%      0.000000    0.666667    1.000000  \n",
       "75%      0.250000    1.000000    1.000000  \n",
       "max      1.000000    1.000000    1.000000  "
      ]
     },
     "execution_count": 42,
     "metadata": {},
     "output_type": "execute_result"
    }
   ],
   "source": [
    "df_minmax.describe()"
   ]
  },
  {
   "cell_type": "markdown",
   "id": "4a70ad0a",
   "metadata": {},
   "source": [
    "### DIMENSION REDUCTION USING PCA"
   ]
  },
  {
   "cell_type": "code",
   "execution_count": 43,
   "id": "f80b84dd",
   "metadata": {},
   "outputs": [
    {
     "data": {
      "text/plain": [
       "array([33.54, 47.2 , 57.16])"
      ]
     },
     "execution_count": 43,
     "metadata": {},
     "output_type": "execute_result"
    }
   ],
   "source": [
    "from sklearn.decomposition import PCA\n",
    "pca=PCA(n_components=3)\n",
    "pca_values=pca.fit_transform(df_minmax)\n",
    "var=pca.explained_variance_ratio_\n",
    "var1=np.cumsum(np.round(var,decimals=4)*100)\n",
    "var1"
   ]
  },
  {
   "cell_type": "code",
   "execution_count": 44,
   "id": "2c04ff94",
   "metadata": {},
   "outputs": [
    {
     "data": {
      "text/plain": [
       "Text(0, 0.5, 'Percentage of Data')"
      ]
     },
     "execution_count": 44,
     "metadata": {},
     "output_type": "execute_result"
    },
    {
     "data": {
      "image/png": "[encoded data removed]",
      "text/plain": [
       "<Figure size 1080x504 with 1 Axes>"
      ]
     },
     "metadata": {
      "needs_background": "light"
     },
     "output_type": "display_data"
    }
   ],
   "source": [
    "plt.figure(figsize=(15,7))\n",
    "plt.plot(var1,color='red')\n",
    "plt.title('Variance plot for components obtained')\n",
    "plt.xlabel('No of components')\n",
    "plt.ylabel('Percentage of Data')"
   ]
  },
  {
   "cell_type": "code",
   "execution_count": 45,
   "id": "e1bceae6",
   "metadata": {},
   "outputs": [
    {
     "data": {
      "text/html": [
       "<div>\n",
       "<style scoped>\n",
       "    .dataframe tbody tr th:only-of-type {\n",
       "        vertical-align: middle;\n",
       "    }\n",
       "\n",
       "    .dataframe tbody tr th {\n",
       "        vertical-align: top;\n",
       "    }\n",
       "\n",
       "    .dataframe thead th {\n",
       "        text-align: right;\n",
       "    }\n",
       "</style>\n",
       "<table border=\"1\" class=\"dataframe\">\n",
       "  <thead>\n",
       "    <tr style=\"text-align: right;\">\n",
       "      <th></th>\n",
       "      <th>0</th>\n",
       "      <th>1</th>\n",
       "      <th>2</th>\n",
       "    </tr>\n",
       "  </thead>\n",
       "  <tbody>\n",
       "    <tr>\n",
       "      <th>0</th>\n",
       "      <td>-0.527663</td>\n",
       "      <td>-0.421075</td>\n",
       "      <td>0.436802</td>\n",
       "    </tr>\n",
       "    <tr>\n",
       "      <th>1</th>\n",
       "      <td>-0.473671</td>\n",
       "      <td>-0.358982</td>\n",
       "      <td>-0.012069</td>\n",
       "    </tr>\n",
       "    <tr>\n",
       "      <th>2</th>\n",
       "      <td>-0.896556</td>\n",
       "      <td>0.439348</td>\n",
       "      <td>-0.059738</td>\n",
       "    </tr>\n",
       "    <tr>\n",
       "      <th>3</th>\n",
       "      <td>-0.684984</td>\n",
       "      <td>-0.454849</td>\n",
       "      <td>-0.273738</td>\n",
       "    </tr>\n",
       "    <tr>\n",
       "      <th>4</th>\n",
       "      <td>-0.378073</td>\n",
       "      <td>0.839012</td>\n",
       "      <td>-0.852567</td>\n",
       "    </tr>\n",
       "  </tbody>\n",
       "</table>\n",
       "</div>"
      ],
      "text/plain": [
       "          0         1         2\n",
       "0 -0.527663 -0.421075  0.436802\n",
       "1 -0.473671 -0.358982 -0.012069\n",
       "2 -0.896556  0.439348 -0.059738\n",
       "3 -0.684984 -0.454849 -0.273738\n",
       "4 -0.378073  0.839012 -0.852567"
      ]
     },
     "execution_count": 45,
     "metadata": {},
     "output_type": "execute_result"
    }
   ],
   "source": [
    "df_pca=pd.DataFrame(pca_values)\n",
    "df_pca.head()"
   ]
  },
  {
   "cell_type": "markdown",
   "id": "b310e350",
   "metadata": {},
   "source": [
    "##  HIERARCHICAL CLUSTERING WITHOUT USING PCA"
   ]
  },
  {
   "cell_type": "markdown",
   "id": "dc5bd7c7",
   "metadata": {},
   "source": [
    "### DENDROGRAM\n",
    "Using the dendrogram to decide which method to use for clustering."
   ]
  },
  {
   "cell_type": "code",
   "execution_count": 46,
   "id": "068635dd",
   "metadata": {},
   "outputs": [
    {
     "data": {
      "image/png": "[encoded data removed]",
      "text/plain": [
       "<Figure size 1080x504 with 1 Axes>"
      ]
     },
     "metadata": {
      "needs_background": "light"
     },
     "output_type": "display_data"
    }
   ],
   "source": [
    "from scipy.cluster.hierarchy import linkage\n",
    "import scipy.cluster.hierarchy as sch\n",
    "z=linkage(df_minmax,method='single',metric='euclidean')\n",
    "plt.figure(figsize=(15,7));plt.title('Hierarchical Clustering Dendrogram using single method');plt.xlabel('Index');plt.ylabel('Distance')\n",
    "sch.dendrogram(z,\n",
    "              leaf_rotation=0,\n",
    "              leaf_font_size=10\n",
    "              )\n",
    "plt.show()"
   ]
  },
  {
   "cell_type": "code",
   "execution_count": 47,
   "id": "295a3e39",
   "metadata": {},
   "outputs": [
    {
     "data": {
      "text/plain": [
       "<function matplotlib.pyplot.show(close=None, block=None)>"
      ]
     },
     "execution_count": 47,
     "metadata": {},
     "output_type": "execute_result"
    },
    {
     "data": {
      "image/png": "[encoded data removed]",
      "text/plain": [
       "<Figure size 1080x504 with 1 Axes>"
      ]
     },
     "metadata": {
      "needs_background": "light"
     },
     "output_type": "display_data"
    }
   ],
   "source": [
    "z=linkage(df_minmax,method='complete',metric='euclidean')\n",
    "plt.figure(figsize=(15,7));plt.title('Hierarchical Clustering Dendrogram using complete method');plt.xlabel('Index');plt.ylabel('Distance')\n",
    "sch.dendrogram(z,\n",
    "              leaf_rotation=0,\n",
    "              leaf_font_size=10\n",
    "              )\n",
    "plt.show"
   ]
  },
  {
   "cell_type": "code",
   "execution_count": 48,
   "id": "2bf8264d",
   "metadata": {},
   "outputs": [
    {
     "data": {
      "image/png": "[encoded data removed]",
      "text/plain": [
       "<Figure size 1080x504 with 1 Axes>"
      ]
     },
     "metadata": {
      "needs_background": "light"
     },
     "output_type": "display_data"
    }
   ],
   "source": [
    "z=linkage(df_minmax,method='average',metric='euclidean')\n",
    "plt.figure(figsize=(15,7));plt.title(\"Hierarchical Clustering Dendrogram using average method\");plt.xlabel('Index');plt.ylabel(\"Distance\")\n",
    "sch.dendrogram(z,\n",
    "              leaf_rotation=0,\n",
    "              leaf_font_size=10\n",
    "              )\n",
    "plt.show()"
   ]
  },
  {
   "cell_type": "code",
   "execution_count": 49,
   "id": "fbe03bb8",
   "metadata": {},
   "outputs": [
    {
     "data": {
      "image/png": "[encoded data removed]",
      "text/plain": [
       "<Figure size 1080x504 with 1 Axes>"
      ]
     },
     "metadata": {
      "needs_background": "light"
     },
     "output_type": "display_data"
    }
   ],
   "source": [
    "z=linkage(df_minmax,method='ward',metric='euclidean')\n",
    "plt.figure(figsize=(15,7));plt.title(\"Hierarchical Clustering Dendrogram using ward method\");plt.xlabel('Index');plt.ylabel('Distance')\n",
    "sch.dendrogram(z,\n",
    "              leaf_rotation=0,\n",
    "              leaf_font_size=10\n",
    "              )\n",
    "plt.show()"
   ]
  },
  {
   "cell_type": "markdown",
   "id": "13ef7554",
   "metadata": {},
   "source": [
    "from the dendrogram it seems the ward method is the best to carry out clustering into 2 clusters."
   ]
  },
  {
   "cell_type": "markdown",
   "id": "dfe0d917",
   "metadata": {},
   "source": [
    "### NO OF CLUSTERS : 2"
   ]
  },
  {
   "cell_type": "code",
   "execution_count": 50,
   "id": "00177063",
   "metadata": {},
   "outputs": [
    {
     "data": {
      "text/html": [
       "<div>\n",
       "<style scoped>\n",
       "    .dataframe tbody tr th:only-of-type {\n",
       "        vertical-align: middle;\n",
       "    }\n",
       "\n",
       "    .dataframe tbody tr th {\n",
       "        vertical-align: top;\n",
       "    }\n",
       "\n",
       "    .dataframe thead th {\n",
       "        text-align: right;\n",
       "    }\n",
       "</style>\n",
       "<table border=\"1\" class=\"dataframe\">\n",
       "  <thead>\n",
       "    <tr style=\"text-align: right;\">\n",
       "      <th></th>\n",
       "      <th>index</th>\n",
       "      <th>age</th>\n",
       "      <th>sex</th>\n",
       "      <th>cp</th>\n",
       "      <th>trestbps</th>\n",
       "      <th>chol</th>\n",
       "      <th>fbs</th>\n",
       "      <th>restecg</th>\n",
       "      <th>thalach</th>\n",
       "      <th>exang</th>\n",
       "      <th>oldpeak</th>\n",
       "      <th>slope</th>\n",
       "      <th>ca</th>\n",
       "      <th>thal</th>\n",
       "      <th>target</th>\n",
       "      <th>clust</th>\n",
       "    </tr>\n",
       "  </thead>\n",
       "  <tbody>\n",
       "    <tr>\n",
       "      <th>0</th>\n",
       "      <td>0</td>\n",
       "      <td>63</td>\n",
       "      <td>1</td>\n",
       "      <td>3</td>\n",
       "      <td>145.0</td>\n",
       "      <td>233.0</td>\n",
       "      <td>1</td>\n",
       "      <td>0</td>\n",
       "      <td>150.0</td>\n",
       "      <td>0</td>\n",
       "      <td>2.3</td>\n",
       "      <td>0</td>\n",
       "      <td>0</td>\n",
       "      <td>1</td>\n",
       "      <td>1</td>\n",
       "      <td>0</td>\n",
       "    </tr>\n",
       "    <tr>\n",
       "      <th>1</th>\n",
       "      <td>1</td>\n",
       "      <td>37</td>\n",
       "      <td>1</td>\n",
       "      <td>2</td>\n",
       "      <td>130.0</td>\n",
       "      <td>250.0</td>\n",
       "      <td>0</td>\n",
       "      <td>1</td>\n",
       "      <td>187.0</td>\n",
       "      <td>0</td>\n",
       "      <td>3.5</td>\n",
       "      <td>0</td>\n",
       "      <td>0</td>\n",
       "      <td>2</td>\n",
       "      <td>1</td>\n",
       "      <td>0</td>\n",
       "    </tr>\n",
       "    <tr>\n",
       "      <th>2</th>\n",
       "      <td>2</td>\n",
       "      <td>41</td>\n",
       "      <td>0</td>\n",
       "      <td>1</td>\n",
       "      <td>130.0</td>\n",
       "      <td>204.0</td>\n",
       "      <td>0</td>\n",
       "      <td>0</td>\n",
       "      <td>172.0</td>\n",
       "      <td>0</td>\n",
       "      <td>1.4</td>\n",
       "      <td>2</td>\n",
       "      <td>0</td>\n",
       "      <td>2</td>\n",
       "      <td>1</td>\n",
       "      <td>0</td>\n",
       "    </tr>\n",
       "    <tr>\n",
       "      <th>3</th>\n",
       "      <td>3</td>\n",
       "      <td>56</td>\n",
       "      <td>1</td>\n",
       "      <td>1</td>\n",
       "      <td>120.0</td>\n",
       "      <td>236.0</td>\n",
       "      <td>0</td>\n",
       "      <td>1</td>\n",
       "      <td>178.0</td>\n",
       "      <td>0</td>\n",
       "      <td>0.8</td>\n",
       "      <td>2</td>\n",
       "      <td>0</td>\n",
       "      <td>2</td>\n",
       "      <td>1</td>\n",
       "      <td>0</td>\n",
       "    </tr>\n",
       "    <tr>\n",
       "      <th>4</th>\n",
       "      <td>4</td>\n",
       "      <td>57</td>\n",
       "      <td>0</td>\n",
       "      <td>0</td>\n",
       "      <td>120.0</td>\n",
       "      <td>354.0</td>\n",
       "      <td>0</td>\n",
       "      <td>1</td>\n",
       "      <td>163.0</td>\n",
       "      <td>1</td>\n",
       "      <td>0.6</td>\n",
       "      <td>2</td>\n",
       "      <td>0</td>\n",
       "      <td>2</td>\n",
       "      <td>1</td>\n",
       "      <td>0</td>\n",
       "    </tr>\n",
       "  </tbody>\n",
       "</table>\n",
       "</div>"
      ],
      "text/plain": [
       "   index  age  sex  cp  trestbps   chol  fbs  restecg  thalach  exang  \\\n",
       "0      0   63    1   3     145.0  233.0    1        0    150.0      0   \n",
       "1      1   37    1   2     130.0  250.0    0        1    187.0      0   \n",
       "2      2   41    0   1     130.0  204.0    0        0    172.0      0   \n",
       "3      3   56    1   1     120.0  236.0    0        1    178.0      0   \n",
       "4      4   57    0   0     120.0  354.0    0        1    163.0      1   \n",
       "\n",
       "   oldpeak  slope  ca  thal  target  clust  \n",
       "0      2.3      0   0     1       1      0  \n",
       "1      3.5      0   0     2       1      0  \n",
       "2      1.4      2   0     2       1      0  \n",
       "3      0.8      2   0     2       1      0  \n",
       "4      0.6      2   0     2       1      0  "
      ]
     },
     "execution_count": 50,
     "metadata": {},
     "output_type": "execute_result"
    }
   ],
   "source": [
    "from sklearn.cluster import AgglomerativeClustering\n",
    "df_ward3=AgglomerativeClustering(n_clusters=2,linkage='ward',affinity='euclidean').fit(df_minmax)\n",
    "clust_ward=df_ward3.labels_\n",
    "df_w3=df.copy()\n",
    "df_w3['clust']=clust_ward\n",
    "df_w3.head()"
   ]
  },
  {
   "cell_type": "code",
   "execution_count": 51,
   "id": "48a2b5bf",
   "metadata": {},
   "outputs": [
    {
     "data": {
      "text/html": [
       "<div>\n",
       "<style scoped>\n",
       "    .dataframe tbody tr th:only-of-type {\n",
       "        vertical-align: middle;\n",
       "    }\n",
       "\n",
       "    .dataframe tbody tr th {\n",
       "        vertical-align: top;\n",
       "    }\n",
       "\n",
       "    .dataframe thead th {\n",
       "        text-align: right;\n",
       "    }\n",
       "</style>\n",
       "<table border=\"1\" class=\"dataframe\">\n",
       "  <thead>\n",
       "    <tr style=\"text-align: right;\">\n",
       "      <th></th>\n",
       "      <th>index</th>\n",
       "      <th>age</th>\n",
       "      <th>sex</th>\n",
       "      <th>cp</th>\n",
       "      <th>trestbps</th>\n",
       "      <th>chol</th>\n",
       "      <th>fbs</th>\n",
       "      <th>restecg</th>\n",
       "      <th>thalach</th>\n",
       "      <th>exang</th>\n",
       "      <th>oldpeak</th>\n",
       "      <th>slope</th>\n",
       "      <th>ca</th>\n",
       "      <th>thal</th>\n",
       "      <th>target</th>\n",
       "    </tr>\n",
       "    <tr>\n",
       "      <th>clust</th>\n",
       "      <th></th>\n",
       "      <th></th>\n",
       "      <th></th>\n",
       "      <th></th>\n",
       "      <th></th>\n",
       "      <th></th>\n",
       "      <th></th>\n",
       "      <th></th>\n",
       "      <th></th>\n",
       "      <th></th>\n",
       "      <th></th>\n",
       "      <th></th>\n",
       "      <th></th>\n",
       "      <th></th>\n",
       "      <th></th>\n",
       "    </tr>\n",
       "  </thead>\n",
       "  <tbody>\n",
       "    <tr>\n",
       "      <th>0</th>\n",
       "      <td>81.5</td>\n",
       "      <td>52.585366</td>\n",
       "      <td>0.560976</td>\n",
       "      <td>1.371951</td>\n",
       "      <td>129.128049</td>\n",
       "      <td>241.031250</td>\n",
       "      <td>0.140244</td>\n",
       "      <td>0.591463</td>\n",
       "      <td>158.378049</td>\n",
       "      <td>0.140244</td>\n",
       "      <td>0.585366</td>\n",
       "      <td>1.591463</td>\n",
       "      <td>0.341463</td>\n",
       "      <td>2.121951</td>\n",
       "      <td>1.0</td>\n",
       "    </tr>\n",
       "    <tr>\n",
       "      <th>1</th>\n",
       "      <td>233.5</td>\n",
       "      <td>56.601449</td>\n",
       "      <td>0.826087</td>\n",
       "      <td>0.478261</td>\n",
       "      <td>133.789855</td>\n",
       "      <td>250.541667</td>\n",
       "      <td>0.159420</td>\n",
       "      <td>0.449275</td>\n",
       "      <td>139.196558</td>\n",
       "      <td>0.550725</td>\n",
       "      <td>1.553623</td>\n",
       "      <td>1.166667</td>\n",
       "      <td>1.166667</td>\n",
       "      <td>2.543478</td>\n",
       "      <td>0.0</td>\n",
       "    </tr>\n",
       "  </tbody>\n",
       "</table>\n",
       "</div>"
      ],
      "text/plain": [
       "       index        age       sex        cp    trestbps        chol       fbs  \\\n",
       "clust                                                                           \n",
       "0       81.5  52.585366  0.560976  1.371951  129.128049  241.031250  0.140244   \n",
       "1      233.5  56.601449  0.826087  0.478261  133.789855  250.541667  0.159420   \n",
       "\n",
       "        restecg     thalach     exang   oldpeak     slope        ca      thal  \\\n",
       "clust                                                                           \n",
       "0      0.591463  158.378049  0.140244  0.585366  1.591463  0.341463  2.121951   \n",
       "1      0.449275  139.196558  0.550725  1.553623  1.166667  1.166667  2.543478   \n",
       "\n",
       "       target  \n",
       "clust          \n",
       "0         1.0  \n",
       "1         0.0  "
      ]
     },
     "execution_count": 51,
     "metadata": {},
     "output_type": "execute_result"
    }
   ],
   "source": [
    "df_w3.groupby(df_w3.clust).mean()"
   ]
  },
  {
   "cell_type": "code",
   "execution_count": 52,
   "id": "7cc2af16",
   "metadata": {},
   "outputs": [
    {
     "data": {
      "text/html": [
       "<div>\n",
       "<style scoped>\n",
       "    .dataframe tbody tr th:only-of-type {\n",
       "        vertical-align: middle;\n",
       "    }\n",
       "\n",
       "    .dataframe tbody tr th {\n",
       "        vertical-align: top;\n",
       "    }\n",
       "\n",
       "    .dataframe thead th {\n",
       "        text-align: right;\n",
       "    }\n",
       "</style>\n",
       "<table border=\"1\" class=\"dataframe\">\n",
       "  <thead>\n",
       "    <tr style=\"text-align: right;\">\n",
       "      <th></th>\n",
       "      <th>index</th>\n",
       "      <th>age</th>\n",
       "      <th>sex</th>\n",
       "      <th>cp</th>\n",
       "      <th>trestbps</th>\n",
       "      <th>chol</th>\n",
       "      <th>fbs</th>\n",
       "      <th>restecg</th>\n",
       "      <th>thalach</th>\n",
       "      <th>exang</th>\n",
       "      <th>oldpeak</th>\n",
       "      <th>slope</th>\n",
       "      <th>ca</th>\n",
       "      <th>thal</th>\n",
       "      <th>target</th>\n",
       "    </tr>\n",
       "    <tr>\n",
       "      <th>clust</th>\n",
       "      <th></th>\n",
       "      <th></th>\n",
       "      <th></th>\n",
       "      <th></th>\n",
       "      <th></th>\n",
       "      <th></th>\n",
       "      <th></th>\n",
       "      <th></th>\n",
       "      <th></th>\n",
       "      <th></th>\n",
       "      <th></th>\n",
       "      <th></th>\n",
       "      <th></th>\n",
       "      <th></th>\n",
       "      <th></th>\n",
       "    </tr>\n",
       "  </thead>\n",
       "  <tbody>\n",
       "    <tr>\n",
       "      <th>0</th>\n",
       "      <td>164</td>\n",
       "      <td>164</td>\n",
       "      <td>164</td>\n",
       "      <td>164</td>\n",
       "      <td>164</td>\n",
       "      <td>164</td>\n",
       "      <td>164</td>\n",
       "      <td>164</td>\n",
       "      <td>164</td>\n",
       "      <td>164</td>\n",
       "      <td>164</td>\n",
       "      <td>164</td>\n",
       "      <td>164</td>\n",
       "      <td>164</td>\n",
       "      <td>164</td>\n",
       "    </tr>\n",
       "    <tr>\n",
       "      <th>1</th>\n",
       "      <td>138</td>\n",
       "      <td>138</td>\n",
       "      <td>138</td>\n",
       "      <td>138</td>\n",
       "      <td>138</td>\n",
       "      <td>138</td>\n",
       "      <td>138</td>\n",
       "      <td>138</td>\n",
       "      <td>138</td>\n",
       "      <td>138</td>\n",
       "      <td>138</td>\n",
       "      <td>138</td>\n",
       "      <td>138</td>\n",
       "      <td>138</td>\n",
       "      <td>138</td>\n",
       "    </tr>\n",
       "  </tbody>\n",
       "</table>\n",
       "</div>"
      ],
      "text/plain": [
       "       index  age  sex   cp  trestbps  chol  fbs  restecg  thalach  exang  \\\n",
       "clust                                                                       \n",
       "0        164  164  164  164       164   164  164      164      164    164   \n",
       "1        138  138  138  138       138   138  138      138      138    138   \n",
       "\n",
       "       oldpeak  slope   ca  thal  target  \n",
       "clust                                     \n",
       "0          164    164  164   164     164  \n",
       "1          138    138  138   138     138  "
      ]
     },
     "execution_count": 52,
     "metadata": {},
     "output_type": "execute_result"
    }
   ],
   "source": [
    "df_w3.groupby(df_w3.clust).count()"
   ]
  },
  {
   "cell_type": "code",
   "execution_count": 53,
   "id": "cde5487e",
   "metadata": {},
   "outputs": [
    {
     "data": {
      "image/png": "[encoded data removed]",
      "text/plain": [
       "<Figure size 1080x504 with 1 Axes>"
      ]
     },
     "metadata": {
      "needs_background": "light"
     },
     "output_type": "display_data"
    }
   ],
   "source": [
    "plt.figure(figsize=(15,7))\n",
    "a=df_w3.clust.map({0:'red',1:'blue'})\n",
    "plt.scatter(df_w3.index,df_w3.chol,c=a)\n",
    "from matplotlib.lines import Line2D\n",
    "colors=['red','blue']\n",
    "legend_elements=[Line2D([0],[0],marker='o',color='w',label='Cluster{}'.format(i),\n",
    "                       markerfacecolor=mcolor,markersize=10) for i , mcolor in enumerate (colors)]\n",
    "plt.legend(handles=legend_elements,loc='upper left')\n",
    "plt.title('Agglomerative Clustering using 2 clusters')\n",
    "plt.xlabel('Index')\n",
    "plt.ylabel('Cholesterol')\n",
    "plt.show()"
   ]
  },
  {
   "cell_type": "markdown",
   "id": "b9687f74",
   "metadata": {},
   "source": [
    "#### INSIGHTS\n",
    "* Cluster 0 : In this group all are diagnosed with heart disease, the resting ecg values and maximum heart rate achieved are comparatively higher.The chest pains of type 1 and type 2 are more common.The population is also younger\n",
    "* Cluster 1 : In this group none are diagnosed with heart disease, the resting ecg values and maximum heart rate are comparatively lower.This group is majority male and chest pains of type 0 and type 1 are more common."
   ]
  },
  {
   "cell_type": "markdown",
   "id": "a007319c",
   "metadata": {},
   "source": [
    "##  HIERARCHICAL CLUSTERING  USING PCA"
   ]
  },
  {
   "cell_type": "markdown",
   "id": "1564b0dc",
   "metadata": {},
   "source": [
    "### DENDROGRAM\n",
    "Using the dendrogram to decide which method to use for clustering."
   ]
  },
  {
   "cell_type": "code",
   "execution_count": 54,
   "id": "73f83a9c",
   "metadata": {},
   "outputs": [
    {
     "data": {
      "image/png": "[encoded data removed]",
      "text/plain": [
       "<Figure size 1080x504 with 1 Axes>"
      ]
     },
     "metadata": {
      "needs_background": "light"
     },
     "output_type": "display_data"
    }
   ],
   "source": [
    "z=linkage(df_pca,method='single',metric='euclidean')\n",
    "plt.figure(figsize=(15,7));plt.title(\"Hierarchical Clustering Dendrogram using single method\"); plt.xlabel('Index');plt.ylabel('Distance')\n",
    "sch.dendrogram(z,\n",
    "              leaf_rotation=0,\n",
    "              leaf_font_size=10\n",
    "              )\n",
    "plt.show()"
   ]
  },
  {
   "cell_type": "code",
   "execution_count": 55,
   "id": "419848df",
   "metadata": {},
   "outputs": [
    {
     "data": {
      "image/png": "[encoded data removed]",
      "text/plain": [
       "<Figure size 1080x504 with 1 Axes>"
      ]
     },
     "metadata": {
      "needs_background": "light"
     },
     "output_type": "display_data"
    }
   ],
   "source": [
    "z=linkage(df_pca,method='complete',metric='euclidean')\n",
    "plt.figure(figsize=(15,7));plt.title(\"Hierarchical Clustering Dendrogram using complete method\");plt.xlabel('Index');plt.ylabel('Distance')\n",
    "sch.dendrogram(z,\n",
    "              leaf_rotation=0,\n",
    "              leaf_font_size=10\n",
    "              )\n",
    "plt.show()"
   ]
  },
  {
   "cell_type": "code",
   "execution_count": 56,
   "id": "57205519",
   "metadata": {},
   "outputs": [
    {
     "data": {
      "image/png": "[encoded data removed]",
      "text/plain": [
       "<Figure size 1080x504 with 1 Axes>"
      ]
     },
     "metadata": {
      "needs_background": "light"
     },
     "output_type": "display_data"
    }
   ],
   "source": [
    "z=linkage(df_pca,method='complete',metric='euclidean')\n",
    "plt.figure(figsize=(15,7));plt.title(\"Hierarchical Clustering Dendrogram using average method\");plt.xlabel(\"Index\");plt.ylabel('Distance')\n",
    "sch.dendrogram(z,\n",
    "              leaf_rotation=0,\n",
    "              leaf_font_size=10\n",
    "              )\n",
    "plt.show()"
   ]
  },
  {
   "cell_type": "code",
   "execution_count": 57,
   "id": "4338ea82",
   "metadata": {},
   "outputs": [
    {
     "data": {
      "image/png": "[encoded data removed]",
      "text/plain": [
       "<Figure size 1080x504 with 1 Axes>"
      ]
     },
     "metadata": {
      "needs_background": "light"
     },
     "output_type": "display_data"
    }
   ],
   "source": [
    "z=linkage(df_pca,method='ward',metric='euclidean')\n",
    "plt.figure(figsize=(15,7));plt.title(\"Hierarchical Clustering Dendrogram using ward method\");plt.xlabel('Index');plt.ylabel('Distance')\n",
    "sch.dendrogram(z,\n",
    "              leaf_rotation=0,\n",
    "              leaf_font_size=10\n",
    "              )\n",
    "plt.show()"
   ]
  },
  {
   "cell_type": "markdown",
   "id": "d52343f1",
   "metadata": {},
   "source": [
    "from the dendrograms ward method seems to be a better method to clustering using 2 clusters."
   ]
  },
  {
   "cell_type": "markdown",
   "id": "16cbfb1a",
   "metadata": {},
   "source": [
    "### NO OF CLUSTERS : 2"
   ]
  },
  {
   "cell_type": "code",
   "execution_count": 58,
   "id": "e4872121",
   "metadata": {},
   "outputs": [
    {
     "data": {
      "text/html": [
       "<div>\n",
       "<style scoped>\n",
       "    .dataframe tbody tr th:only-of-type {\n",
       "        vertical-align: middle;\n",
       "    }\n",
       "\n",
       "    .dataframe tbody tr th {\n",
       "        vertical-align: top;\n",
       "    }\n",
       "\n",
       "    .dataframe thead th {\n",
       "        text-align: right;\n",
       "    }\n",
       "</style>\n",
       "<table border=\"1\" class=\"dataframe\">\n",
       "  <thead>\n",
       "    <tr style=\"text-align: right;\">\n",
       "      <th></th>\n",
       "      <th>index</th>\n",
       "      <th>age</th>\n",
       "      <th>sex</th>\n",
       "      <th>cp</th>\n",
       "      <th>trestbps</th>\n",
       "      <th>chol</th>\n",
       "      <th>fbs</th>\n",
       "      <th>restecg</th>\n",
       "      <th>thalach</th>\n",
       "      <th>exang</th>\n",
       "      <th>oldpeak</th>\n",
       "      <th>slope</th>\n",
       "      <th>ca</th>\n",
       "      <th>thal</th>\n",
       "      <th>target</th>\n",
       "      <th>clust</th>\n",
       "    </tr>\n",
       "  </thead>\n",
       "  <tbody>\n",
       "    <tr>\n",
       "      <th>0</th>\n",
       "      <td>0</td>\n",
       "      <td>63</td>\n",
       "      <td>1</td>\n",
       "      <td>3</td>\n",
       "      <td>145.0</td>\n",
       "      <td>233.0</td>\n",
       "      <td>1</td>\n",
       "      <td>0</td>\n",
       "      <td>150.0</td>\n",
       "      <td>0</td>\n",
       "      <td>2.3</td>\n",
       "      <td>0</td>\n",
       "      <td>0</td>\n",
       "      <td>1</td>\n",
       "      <td>1</td>\n",
       "      <td>0</td>\n",
       "    </tr>\n",
       "    <tr>\n",
       "      <th>1</th>\n",
       "      <td>1</td>\n",
       "      <td>37</td>\n",
       "      <td>1</td>\n",
       "      <td>2</td>\n",
       "      <td>130.0</td>\n",
       "      <td>250.0</td>\n",
       "      <td>0</td>\n",
       "      <td>1</td>\n",
       "      <td>187.0</td>\n",
       "      <td>0</td>\n",
       "      <td>3.5</td>\n",
       "      <td>0</td>\n",
       "      <td>0</td>\n",
       "      <td>2</td>\n",
       "      <td>1</td>\n",
       "      <td>0</td>\n",
       "    </tr>\n",
       "    <tr>\n",
       "      <th>2</th>\n",
       "      <td>2</td>\n",
       "      <td>41</td>\n",
       "      <td>0</td>\n",
       "      <td>1</td>\n",
       "      <td>130.0</td>\n",
       "      <td>204.0</td>\n",
       "      <td>0</td>\n",
       "      <td>0</td>\n",
       "      <td>172.0</td>\n",
       "      <td>0</td>\n",
       "      <td>1.4</td>\n",
       "      <td>2</td>\n",
       "      <td>0</td>\n",
       "      <td>2</td>\n",
       "      <td>1</td>\n",
       "      <td>0</td>\n",
       "    </tr>\n",
       "    <tr>\n",
       "      <th>3</th>\n",
       "      <td>3</td>\n",
       "      <td>56</td>\n",
       "      <td>1</td>\n",
       "      <td>1</td>\n",
       "      <td>120.0</td>\n",
       "      <td>236.0</td>\n",
       "      <td>0</td>\n",
       "      <td>1</td>\n",
       "      <td>178.0</td>\n",
       "      <td>0</td>\n",
       "      <td>0.8</td>\n",
       "      <td>2</td>\n",
       "      <td>0</td>\n",
       "      <td>2</td>\n",
       "      <td>1</td>\n",
       "      <td>0</td>\n",
       "    </tr>\n",
       "    <tr>\n",
       "      <th>4</th>\n",
       "      <td>4</td>\n",
       "      <td>57</td>\n",
       "      <td>0</td>\n",
       "      <td>0</td>\n",
       "      <td>120.0</td>\n",
       "      <td>354.0</td>\n",
       "      <td>0</td>\n",
       "      <td>1</td>\n",
       "      <td>163.0</td>\n",
       "      <td>1</td>\n",
       "      <td>0.6</td>\n",
       "      <td>2</td>\n",
       "      <td>0</td>\n",
       "      <td>2</td>\n",
       "      <td>1</td>\n",
       "      <td>0</td>\n",
       "    </tr>\n",
       "  </tbody>\n",
       "</table>\n",
       "</div>"
      ],
      "text/plain": [
       "   index  age  sex  cp  trestbps   chol  fbs  restecg  thalach  exang  \\\n",
       "0      0   63    1   3     145.0  233.0    1        0    150.0      0   \n",
       "1      1   37    1   2     130.0  250.0    0        1    187.0      0   \n",
       "2      2   41    0   1     130.0  204.0    0        0    172.0      0   \n",
       "3      3   56    1   1     120.0  236.0    0        1    178.0      0   \n",
       "4      4   57    0   0     120.0  354.0    0        1    163.0      1   \n",
       "\n",
       "   oldpeak  slope  ca  thal  target  clust  \n",
       "0      2.3      0   0     1       1      0  \n",
       "1      3.5      0   0     2       1      0  \n",
       "2      1.4      2   0     2       1      0  \n",
       "3      0.8      2   0     2       1      0  \n",
       "4      0.6      2   0     2       1      0  "
      ]
     },
     "execution_count": 58,
     "metadata": {},
     "output_type": "execute_result"
    }
   ],
   "source": [
    "pca_ward=AgglomerativeClustering(n_clusters=2,linkage='ward',affinity='euclidean').fit(df_pca)\n",
    "clust_pca=pd.DataFrame(pca_ward.labels_)\n",
    "df_pca3=df.copy()\n",
    "df_pca3['clust']=clust_pca\n",
    "df_pca3.head()"
   ]
  },
  {
   "cell_type": "code",
   "execution_count": 59,
   "id": "754a52f4",
   "metadata": {},
   "outputs": [
    {
     "data": {
      "text/html": [
       "<div>\n",
       "<style scoped>\n",
       "    .dataframe tbody tr th:only-of-type {\n",
       "        vertical-align: middle;\n",
       "    }\n",
       "\n",
       "    .dataframe tbody tr th {\n",
       "        vertical-align: top;\n",
       "    }\n",
       "\n",
       "    .dataframe thead th {\n",
       "        text-align: right;\n",
       "    }\n",
       "</style>\n",
       "<table border=\"1\" class=\"dataframe\">\n",
       "  <thead>\n",
       "    <tr style=\"text-align: right;\">\n",
       "      <th></th>\n",
       "      <th>index</th>\n",
       "      <th>age</th>\n",
       "      <th>sex</th>\n",
       "      <th>cp</th>\n",
       "      <th>trestbps</th>\n",
       "      <th>chol</th>\n",
       "      <th>fbs</th>\n",
       "      <th>restecg</th>\n",
       "      <th>thalach</th>\n",
       "      <th>exang</th>\n",
       "      <th>oldpeak</th>\n",
       "      <th>slope</th>\n",
       "      <th>ca</th>\n",
       "      <th>thal</th>\n",
       "      <th>target</th>\n",
       "    </tr>\n",
       "    <tr>\n",
       "      <th>clust</th>\n",
       "      <th></th>\n",
       "      <th></th>\n",
       "      <th></th>\n",
       "      <th></th>\n",
       "      <th></th>\n",
       "      <th></th>\n",
       "      <th></th>\n",
       "      <th></th>\n",
       "      <th></th>\n",
       "      <th></th>\n",
       "      <th></th>\n",
       "      <th></th>\n",
       "      <th></th>\n",
       "      <th></th>\n",
       "      <th></th>\n",
       "    </tr>\n",
       "  </thead>\n",
       "  <tbody>\n",
       "    <tr>\n",
       "      <th>0</th>\n",
       "      <td>81.5</td>\n",
       "      <td>52.585366</td>\n",
       "      <td>0.560976</td>\n",
       "      <td>1.371951</td>\n",
       "      <td>129.128049</td>\n",
       "      <td>241.031250</td>\n",
       "      <td>0.140244</td>\n",
       "      <td>0.591463</td>\n",
       "      <td>158.378049</td>\n",
       "      <td>0.140244</td>\n",
       "      <td>0.585366</td>\n",
       "      <td>1.591463</td>\n",
       "      <td>0.341463</td>\n",
       "      <td>2.121951</td>\n",
       "      <td>1.0</td>\n",
       "    </tr>\n",
       "    <tr>\n",
       "      <th>1</th>\n",
       "      <td>233.5</td>\n",
       "      <td>56.601449</td>\n",
       "      <td>0.826087</td>\n",
       "      <td>0.478261</td>\n",
       "      <td>133.789855</td>\n",
       "      <td>250.541667</td>\n",
       "      <td>0.159420</td>\n",
       "      <td>0.449275</td>\n",
       "      <td>139.196558</td>\n",
       "      <td>0.550725</td>\n",
       "      <td>1.553623</td>\n",
       "      <td>1.166667</td>\n",
       "      <td>1.166667</td>\n",
       "      <td>2.543478</td>\n",
       "      <td>0.0</td>\n",
       "    </tr>\n",
       "  </tbody>\n",
       "</table>\n",
       "</div>"
      ],
      "text/plain": [
       "       index        age       sex        cp    trestbps        chol       fbs  \\\n",
       "clust                                                                           \n",
       "0       81.5  52.585366  0.560976  1.371951  129.128049  241.031250  0.140244   \n",
       "1      233.5  56.601449  0.826087  0.478261  133.789855  250.541667  0.159420   \n",
       "\n",
       "        restecg     thalach     exang   oldpeak     slope        ca      thal  \\\n",
       "clust                                                                           \n",
       "0      0.591463  158.378049  0.140244  0.585366  1.591463  0.341463  2.121951   \n",
       "1      0.449275  139.196558  0.550725  1.553623  1.166667  1.166667  2.543478   \n",
       "\n",
       "       target  \n",
       "clust          \n",
       "0         1.0  \n",
       "1         0.0  "
      ]
     },
     "execution_count": 59,
     "metadata": {},
     "output_type": "execute_result"
    }
   ],
   "source": [
    "df_pca3.groupby(df_pca3.clust).mean()"
   ]
  },
  {
   "cell_type": "code",
   "execution_count": 60,
   "id": "2e95c2f8",
   "metadata": {},
   "outputs": [
    {
     "data": {
      "text/html": [
       "<div>\n",
       "<style scoped>\n",
       "    .dataframe tbody tr th:only-of-type {\n",
       "        vertical-align: middle;\n",
       "    }\n",
       "\n",
       "    .dataframe tbody tr th {\n",
       "        vertical-align: top;\n",
       "    }\n",
       "\n",
       "    .dataframe thead th {\n",
       "        text-align: right;\n",
       "    }\n",
       "</style>\n",
       "<table border=\"1\" class=\"dataframe\">\n",
       "  <thead>\n",
       "    <tr style=\"text-align: right;\">\n",
       "      <th></th>\n",
       "      <th>index</th>\n",
       "      <th>age</th>\n",
       "      <th>sex</th>\n",
       "      <th>cp</th>\n",
       "      <th>trestbps</th>\n",
       "      <th>chol</th>\n",
       "      <th>fbs</th>\n",
       "      <th>restecg</th>\n",
       "      <th>thalach</th>\n",
       "      <th>exang</th>\n",
       "      <th>oldpeak</th>\n",
       "      <th>slope</th>\n",
       "      <th>ca</th>\n",
       "      <th>thal</th>\n",
       "      <th>target</th>\n",
       "    </tr>\n",
       "    <tr>\n",
       "      <th>clust</th>\n",
       "      <th></th>\n",
       "      <th></th>\n",
       "      <th></th>\n",
       "      <th></th>\n",
       "      <th></th>\n",
       "      <th></th>\n",
       "      <th></th>\n",
       "      <th></th>\n",
       "      <th></th>\n",
       "      <th></th>\n",
       "      <th></th>\n",
       "      <th></th>\n",
       "      <th></th>\n",
       "      <th></th>\n",
       "      <th></th>\n",
       "    </tr>\n",
       "  </thead>\n",
       "  <tbody>\n",
       "    <tr>\n",
       "      <th>0</th>\n",
       "      <td>164</td>\n",
       "      <td>164</td>\n",
       "      <td>164</td>\n",
       "      <td>164</td>\n",
       "      <td>164</td>\n",
       "      <td>164</td>\n",
       "      <td>164</td>\n",
       "      <td>164</td>\n",
       "      <td>164</td>\n",
       "      <td>164</td>\n",
       "      <td>164</td>\n",
       "      <td>164</td>\n",
       "      <td>164</td>\n",
       "      <td>164</td>\n",
       "      <td>164</td>\n",
       "    </tr>\n",
       "    <tr>\n",
       "      <th>1</th>\n",
       "      <td>138</td>\n",
       "      <td>138</td>\n",
       "      <td>138</td>\n",
       "      <td>138</td>\n",
       "      <td>138</td>\n",
       "      <td>138</td>\n",
       "      <td>138</td>\n",
       "      <td>138</td>\n",
       "      <td>138</td>\n",
       "      <td>138</td>\n",
       "      <td>138</td>\n",
       "      <td>138</td>\n",
       "      <td>138</td>\n",
       "      <td>138</td>\n",
       "      <td>138</td>\n",
       "    </tr>\n",
       "  </tbody>\n",
       "</table>\n",
       "</div>"
      ],
      "text/plain": [
       "       index  age  sex   cp  trestbps  chol  fbs  restecg  thalach  exang  \\\n",
       "clust                                                                       \n",
       "0        164  164  164  164       164   164  164      164      164    164   \n",
       "1        138  138  138  138       138   138  138      138      138    138   \n",
       "\n",
       "       oldpeak  slope   ca  thal  target  \n",
       "clust                                     \n",
       "0          164    164  164   164     164  \n",
       "1          138    138  138   138     138  "
      ]
     },
     "execution_count": 60,
     "metadata": {},
     "output_type": "execute_result"
    }
   ],
   "source": [
    "df_pca3.groupby(df_pca3.clust).count()"
   ]
  },
  {
   "cell_type": "code",
   "execution_count": 61,
   "id": "cde62d01",
   "metadata": {},
   "outputs": [
    {
     "data": {
      "image/png": "[encoded data removed]",
      "text/plain": [
       "<Figure size 1080x504 with 1 Axes>"
      ]
     },
     "metadata": {
      "needs_background": "light"
     },
     "output_type": "display_data"
    }
   ],
   "source": [
    "plt.figure(figsize=(15,7))\n",
    "a=df_pca3.clust.map({0:'red',1:'blue'})\n",
    "plt.scatter(df_pca3.index,df_pca3.chol,c=a)\n",
    "from matplotlib.lines import Line2D\n",
    "colors=['red','blue']\n",
    "legend_elements=[Line2D([0],[0],marker='o',color='w',label='Cluster{}'.format(i),\n",
    "                       markerfacecolor=mcolor,markersize=10) for i , mcolor in enumerate (colors)]\n",
    "plt.legend(handles=legend_elements,loc='upper left')\n",
    "plt.title('Agglomerative Clustering using 2 clusters')\n",
    "plt.xlabel('Index')\n",
    "plt.ylabel('Cholesterol')\n",
    "plt.show()"
   ]
  },
  {
   "cell_type": "markdown",
   "id": "2630d507",
   "metadata": {},
   "source": [
    "#### INSIGHTS\n",
    "* Cluster 0 : In this group all are diagnosed with heart disease, the resting ecg values and maximum heart rate achieved are comparatively higher.The chest pains of type 1 and type 2 are more common.The population is also younger\n",
    "* Cluster 1 : In this group none are diagnosed with heart disease, the resting ecg values and maximum heart rate are comparatively lower.This group is majority male and chest pains of type 0 and type 1 are more common."
   ]
  },
  {
   "cell_type": "markdown",
   "id": "a21b52c4",
   "metadata": {},
   "source": [
    "## KMEANS CLUSTERING WITHOUT USING PCA"
   ]
  },
  {
   "cell_type": "markdown",
   "id": "8b92b8f1",
   "metadata": {},
   "source": [
    "### SCREE PLOT"
   ]
  },
  {
   "cell_type": "code",
   "execution_count": 65,
   "id": "2913babe",
   "metadata": {},
   "outputs": [
    {
     "data": {
      "text/plain": [
       "[323.95026284847114,\n",
       " 281.8800909978632,\n",
       " 244.32984161654753,\n",
       " 228.1275337807432,\n",
       " 212.14193190785355,\n",
       " 202.3150989255746,\n",
       " 193.80972610058188]"
      ]
     },
     "execution_count": 65,
     "metadata": {},
     "output_type": "execute_result"
    }
   ],
   "source": [
    "from sklearn.cluster import KMeans\n",
    "TWSS=[]\n",
    "k=list(range(2,9))\n",
    "for i in k:\n",
    "    kmeans=KMeans(n_clusters=i)\n",
    "    kmeans.fit(df_minmax)\n",
    "    TWSS.append(kmeans.inertia_)\n",
    "TWSS"
   ]
  },
  {
   "cell_type": "code",
   "execution_count": 66,
   "id": "89b67338",
   "metadata": {},
   "outputs": [
    {
     "data": {
      "text/plain": [
       "Text(0, 0.5, 'Total within SS')"
      ]
     },
     "execution_count": 66,
     "metadata": {},
     "output_type": "execute_result"
    },
    {
     "data": {
      "image/png": "[encoded data removed]",
      "text/plain": [
       "<Figure size 432x288 with 1 Axes>"
      ]
     },
     "metadata": {
      "needs_background": "light"
     },
     "output_type": "display_data"
    }
   ],
   "source": [
    "plt.plot(k,TWSS,'ro-');plt.xlabel('No of clusters');plt.ylabel('Total within SS')"
   ]
  },
  {
   "cell_type": "markdown",
   "id": "f08f6d6b",
   "metadata": {},
   "source": [
    "from the scree plot 4 clusters seem to be the optimum number of clusters."
   ]
  },
  {
   "cell_type": "markdown",
   "id": "dfbe78df",
   "metadata": {},
   "source": [
    "### NO OF CLUSTERS : 4"
   ]
  },
  {
   "cell_type": "code",
   "execution_count": 67,
   "id": "1c1e6e16",
   "metadata": {},
   "outputs": [
    {
     "data": {
      "text/html": [
       "<div>\n",
       "<style scoped>\n",
       "    .dataframe tbody tr th:only-of-type {\n",
       "        vertical-align: middle;\n",
       "    }\n",
       "\n",
       "    .dataframe tbody tr th {\n",
       "        vertical-align: top;\n",
       "    }\n",
       "\n",
       "    .dataframe thead th {\n",
       "        text-align: right;\n",
       "    }\n",
       "</style>\n",
       "<table border=\"1\" class=\"dataframe\">\n",
       "  <thead>\n",
       "    <tr style=\"text-align: right;\">\n",
       "      <th></th>\n",
       "      <th>index</th>\n",
       "      <th>age</th>\n",
       "      <th>sex</th>\n",
       "      <th>cp</th>\n",
       "      <th>trestbps</th>\n",
       "      <th>chol</th>\n",
       "      <th>fbs</th>\n",
       "      <th>restecg</th>\n",
       "      <th>thalach</th>\n",
       "      <th>exang</th>\n",
       "      <th>oldpeak</th>\n",
       "      <th>slope</th>\n",
       "      <th>ca</th>\n",
       "      <th>thal</th>\n",
       "      <th>target</th>\n",
       "      <th>clust</th>\n",
       "    </tr>\n",
       "  </thead>\n",
       "  <tbody>\n",
       "    <tr>\n",
       "      <th>0</th>\n",
       "      <td>0</td>\n",
       "      <td>63</td>\n",
       "      <td>1</td>\n",
       "      <td>3</td>\n",
       "      <td>145.0</td>\n",
       "      <td>233.0</td>\n",
       "      <td>1</td>\n",
       "      <td>0</td>\n",
       "      <td>150.0</td>\n",
       "      <td>0</td>\n",
       "      <td>2.3</td>\n",
       "      <td>0</td>\n",
       "      <td>0</td>\n",
       "      <td>1</td>\n",
       "      <td>1</td>\n",
       "      <td>2</td>\n",
       "    </tr>\n",
       "    <tr>\n",
       "      <th>1</th>\n",
       "      <td>1</td>\n",
       "      <td>37</td>\n",
       "      <td>1</td>\n",
       "      <td>2</td>\n",
       "      <td>130.0</td>\n",
       "      <td>250.0</td>\n",
       "      <td>0</td>\n",
       "      <td>1</td>\n",
       "      <td>187.0</td>\n",
       "      <td>0</td>\n",
       "      <td>3.5</td>\n",
       "      <td>0</td>\n",
       "      <td>0</td>\n",
       "      <td>2</td>\n",
       "      <td>1</td>\n",
       "      <td>2</td>\n",
       "    </tr>\n",
       "    <tr>\n",
       "      <th>2</th>\n",
       "      <td>2</td>\n",
       "      <td>41</td>\n",
       "      <td>0</td>\n",
       "      <td>1</td>\n",
       "      <td>130.0</td>\n",
       "      <td>204.0</td>\n",
       "      <td>0</td>\n",
       "      <td>0</td>\n",
       "      <td>172.0</td>\n",
       "      <td>0</td>\n",
       "      <td>1.4</td>\n",
       "      <td>2</td>\n",
       "      <td>0</td>\n",
       "      <td>2</td>\n",
       "      <td>1</td>\n",
       "      <td>1</td>\n",
       "    </tr>\n",
       "    <tr>\n",
       "      <th>3</th>\n",
       "      <td>3</td>\n",
       "      <td>56</td>\n",
       "      <td>1</td>\n",
       "      <td>1</td>\n",
       "      <td>120.0</td>\n",
       "      <td>236.0</td>\n",
       "      <td>0</td>\n",
       "      <td>1</td>\n",
       "      <td>178.0</td>\n",
       "      <td>0</td>\n",
       "      <td>0.8</td>\n",
       "      <td>2</td>\n",
       "      <td>0</td>\n",
       "      <td>2</td>\n",
       "      <td>1</td>\n",
       "      <td>2</td>\n",
       "    </tr>\n",
       "    <tr>\n",
       "      <th>4</th>\n",
       "      <td>4</td>\n",
       "      <td>57</td>\n",
       "      <td>0</td>\n",
       "      <td>0</td>\n",
       "      <td>120.0</td>\n",
       "      <td>354.0</td>\n",
       "      <td>0</td>\n",
       "      <td>1</td>\n",
       "      <td>163.0</td>\n",
       "      <td>1</td>\n",
       "      <td>0.6</td>\n",
       "      <td>2</td>\n",
       "      <td>0</td>\n",
       "      <td>2</td>\n",
       "      <td>1</td>\n",
       "      <td>1</td>\n",
       "    </tr>\n",
       "  </tbody>\n",
       "</table>\n",
       "</div>"
      ],
      "text/plain": [
       "   index  age  sex  cp  trestbps   chol  fbs  restecg  thalach  exang  \\\n",
       "0      0   63    1   3     145.0  233.0    1        0    150.0      0   \n",
       "1      1   37    1   2     130.0  250.0    0        1    187.0      0   \n",
       "2      2   41    0   1     130.0  204.0    0        0    172.0      0   \n",
       "3      3   56    1   1     120.0  236.0    0        1    178.0      0   \n",
       "4      4   57    0   0     120.0  354.0    0        1    163.0      1   \n",
       "\n",
       "   oldpeak  slope  ca  thal  target  clust  \n",
       "0      2.3      0   0     1       1      2  \n",
       "1      3.5      0   0     2       1      2  \n",
       "2      1.4      2   0     2       1      1  \n",
       "3      0.8      2   0     2       1      2  \n",
       "4      0.6      2   0     2       1      1  "
      ]
     },
     "execution_count": 67,
     "metadata": {},
     "output_type": "execute_result"
    }
   ],
   "source": [
    "model=KMeans(n_clusters=4)\n",
    "model.fit(df_minmax)\n",
    "mb=model.labels_\n",
    "df_k=df.copy()\n",
    "df_k['clust']=mb\n",
    "df_k.head()"
   ]
  },
  {
   "cell_type": "code",
   "execution_count": 68,
   "id": "21cb11c1",
   "metadata": {},
   "outputs": [
    {
     "data": {
      "text/html": [
       "<div>\n",
       "<style scoped>\n",
       "    .dataframe tbody tr th:only-of-type {\n",
       "        vertical-align: middle;\n",
       "    }\n",
       "\n",
       "    .dataframe tbody tr th {\n",
       "        vertical-align: top;\n",
       "    }\n",
       "\n",
       "    .dataframe thead th {\n",
       "        text-align: right;\n",
       "    }\n",
       "</style>\n",
       "<table border=\"1\" class=\"dataframe\">\n",
       "  <thead>\n",
       "    <tr style=\"text-align: right;\">\n",
       "      <th></th>\n",
       "      <th>index</th>\n",
       "      <th>age</th>\n",
       "      <th>sex</th>\n",
       "      <th>cp</th>\n",
       "      <th>trestbps</th>\n",
       "      <th>chol</th>\n",
       "      <th>fbs</th>\n",
       "      <th>restecg</th>\n",
       "      <th>thalach</th>\n",
       "      <th>exang</th>\n",
       "      <th>oldpeak</th>\n",
       "      <th>slope</th>\n",
       "      <th>ca</th>\n",
       "      <th>thal</th>\n",
       "      <th>target</th>\n",
       "    </tr>\n",
       "    <tr>\n",
       "      <th>clust</th>\n",
       "      <th></th>\n",
       "      <th></th>\n",
       "      <th></th>\n",
       "      <th></th>\n",
       "      <th></th>\n",
       "      <th></th>\n",
       "      <th></th>\n",
       "      <th></th>\n",
       "      <th></th>\n",
       "      <th></th>\n",
       "      <th></th>\n",
       "      <th></th>\n",
       "      <th></th>\n",
       "      <th></th>\n",
       "      <th></th>\n",
       "    </tr>\n",
       "  </thead>\n",
       "  <tbody>\n",
       "    <tr>\n",
       "      <th>0</th>\n",
       "      <td>232.532468</td>\n",
       "      <td>56.337662</td>\n",
       "      <td>0.818182</td>\n",
       "      <td>0.155844</td>\n",
       "      <td>134.194805</td>\n",
       "      <td>254.056818</td>\n",
       "      <td>0.181818</td>\n",
       "      <td>0.480519</td>\n",
       "      <td>132.909091</td>\n",
       "      <td>1.000000</td>\n",
       "      <td>1.738961</td>\n",
       "      <td>1.064935</td>\n",
       "      <td>1.103896</td>\n",
       "      <td>2.584416</td>\n",
       "      <td>0.012987</td>\n",
       "    </tr>\n",
       "    <tr>\n",
       "      <th>1</th>\n",
       "      <td>86.902778</td>\n",
       "      <td>54.555556</td>\n",
       "      <td>0.000000</td>\n",
       "      <td>1.333333</td>\n",
       "      <td>128.597222</td>\n",
       "      <td>253.085069</td>\n",
       "      <td>0.083333</td>\n",
       "      <td>0.583333</td>\n",
       "      <td>154.027778</td>\n",
       "      <td>0.111111</td>\n",
       "      <td>0.554167</td>\n",
       "      <td>1.583333</td>\n",
       "      <td>0.305556</td>\n",
       "      <td>2.000000</td>\n",
       "      <td>1.000000</td>\n",
       "    </tr>\n",
       "    <tr>\n",
       "      <th>2</th>\n",
       "      <td>76.593407</td>\n",
       "      <td>50.901099</td>\n",
       "      <td>1.000000</td>\n",
       "      <td>1.417582</td>\n",
       "      <td>129.560440</td>\n",
       "      <td>231.252747</td>\n",
       "      <td>0.186813</td>\n",
       "      <td>0.593407</td>\n",
       "      <td>162.406593</td>\n",
       "      <td>0.153846</td>\n",
       "      <td>0.614286</td>\n",
       "      <td>1.604396</td>\n",
       "      <td>0.362637</td>\n",
       "      <td>2.208791</td>\n",
       "      <td>1.000000</td>\n",
       "    </tr>\n",
       "    <tr>\n",
       "      <th>3</th>\n",
       "      <td>233.177419</td>\n",
       "      <td>57.048387</td>\n",
       "      <td>0.838710</td>\n",
       "      <td>0.870968</td>\n",
       "      <td>133.193548</td>\n",
       "      <td>246.377016</td>\n",
       "      <td>0.129032</td>\n",
       "      <td>0.419355</td>\n",
       "      <td>146.453629</td>\n",
       "      <td>0.000000</td>\n",
       "      <td>1.301613</td>\n",
       "      <td>1.290323</td>\n",
       "      <td>1.241935</td>\n",
       "      <td>2.500000</td>\n",
       "      <td>0.000000</td>\n",
       "    </tr>\n",
       "  </tbody>\n",
       "</table>\n",
       "</div>"
      ],
      "text/plain": [
       "            index        age       sex        cp    trestbps        chol  \\\n",
       "clust                                                                      \n",
       "0      232.532468  56.337662  0.818182  0.155844  134.194805  254.056818   \n",
       "1       86.902778  54.555556  0.000000  1.333333  128.597222  253.085069   \n",
       "2       76.593407  50.901099  1.000000  1.417582  129.560440  231.252747   \n",
       "3      233.177419  57.048387  0.838710  0.870968  133.193548  246.377016   \n",
       "\n",
       "            fbs   restecg     thalach     exang   oldpeak     slope        ca  \\\n",
       "clust                                                                           \n",
       "0      0.181818  0.480519  132.909091  1.000000  1.738961  1.064935  1.103896   \n",
       "1      0.083333  0.583333  154.027778  0.111111  0.554167  1.583333  0.305556   \n",
       "2      0.186813  0.593407  162.406593  0.153846  0.614286  1.604396  0.362637   \n",
       "3      0.129032  0.419355  146.453629  0.000000  1.301613  1.290323  1.241935   \n",
       "\n",
       "           thal    target  \n",
       "clust                      \n",
       "0      2.584416  0.012987  \n",
       "1      2.000000  1.000000  \n",
       "2      2.208791  1.000000  \n",
       "3      2.500000  0.000000  "
      ]
     },
     "execution_count": 68,
     "metadata": {},
     "output_type": "execute_result"
    }
   ],
   "source": [
    "df_k.groupby(df_k.clust).mean()"
   ]
  },
  {
   "cell_type": "code",
   "execution_count": 69,
   "id": "4fb0477e",
   "metadata": {},
   "outputs": [
    {
     "data": {
      "text/html": [
       "<div>\n",
       "<style scoped>\n",
       "    .dataframe tbody tr th:only-of-type {\n",
       "        vertical-align: middle;\n",
       "    }\n",
       "\n",
       "    .dataframe tbody tr th {\n",
       "        vertical-align: top;\n",
       "    }\n",
       "\n",
       "    .dataframe thead th {\n",
       "        text-align: right;\n",
       "    }\n",
       "</style>\n",
       "<table border=\"1\" class=\"dataframe\">\n",
       "  <thead>\n",
       "    <tr style=\"text-align: right;\">\n",
       "      <th></th>\n",
       "      <th>index</th>\n",
       "      <th>age</th>\n",
       "      <th>sex</th>\n",
       "      <th>cp</th>\n",
       "      <th>trestbps</th>\n",
       "      <th>chol</th>\n",
       "      <th>fbs</th>\n",
       "      <th>restecg</th>\n",
       "      <th>thalach</th>\n",
       "      <th>exang</th>\n",
       "      <th>oldpeak</th>\n",
       "      <th>slope</th>\n",
       "      <th>ca</th>\n",
       "      <th>thal</th>\n",
       "      <th>target</th>\n",
       "    </tr>\n",
       "    <tr>\n",
       "      <th>clust</th>\n",
       "      <th></th>\n",
       "      <th></th>\n",
       "      <th></th>\n",
       "      <th></th>\n",
       "      <th></th>\n",
       "      <th></th>\n",
       "      <th></th>\n",
       "      <th></th>\n",
       "      <th></th>\n",
       "      <th></th>\n",
       "      <th></th>\n",
       "      <th></th>\n",
       "      <th></th>\n",
       "      <th></th>\n",
       "      <th></th>\n",
       "    </tr>\n",
       "  </thead>\n",
       "  <tbody>\n",
       "    <tr>\n",
       "      <th>0</th>\n",
       "      <td>77</td>\n",
       "      <td>77</td>\n",
       "      <td>77</td>\n",
       "      <td>77</td>\n",
       "      <td>77</td>\n",
       "      <td>77</td>\n",
       "      <td>77</td>\n",
       "      <td>77</td>\n",
       "      <td>77</td>\n",
       "      <td>77</td>\n",
       "      <td>77</td>\n",
       "      <td>77</td>\n",
       "      <td>77</td>\n",
       "      <td>77</td>\n",
       "      <td>77</td>\n",
       "    </tr>\n",
       "    <tr>\n",
       "      <th>1</th>\n",
       "      <td>72</td>\n",
       "      <td>72</td>\n",
       "      <td>72</td>\n",
       "      <td>72</td>\n",
       "      <td>72</td>\n",
       "      <td>72</td>\n",
       "      <td>72</td>\n",
       "      <td>72</td>\n",
       "      <td>72</td>\n",
       "      <td>72</td>\n",
       "      <td>72</td>\n",
       "      <td>72</td>\n",
       "      <td>72</td>\n",
       "      <td>72</td>\n",
       "      <td>72</td>\n",
       "    </tr>\n",
       "    <tr>\n",
       "      <th>2</th>\n",
       "      <td>91</td>\n",
       "      <td>91</td>\n",
       "      <td>91</td>\n",
       "      <td>91</td>\n",
       "      <td>91</td>\n",
       "      <td>91</td>\n",
       "      <td>91</td>\n",
       "      <td>91</td>\n",
       "      <td>91</td>\n",
       "      <td>91</td>\n",
       "      <td>91</td>\n",
       "      <td>91</td>\n",
       "      <td>91</td>\n",
       "      <td>91</td>\n",
       "      <td>91</td>\n",
       "    </tr>\n",
       "    <tr>\n",
       "      <th>3</th>\n",
       "      <td>62</td>\n",
       "      <td>62</td>\n",
       "      <td>62</td>\n",
       "      <td>62</td>\n",
       "      <td>62</td>\n",
       "      <td>62</td>\n",
       "      <td>62</td>\n",
       "      <td>62</td>\n",
       "      <td>62</td>\n",
       "      <td>62</td>\n",
       "      <td>62</td>\n",
       "      <td>62</td>\n",
       "      <td>62</td>\n",
       "      <td>62</td>\n",
       "      <td>62</td>\n",
       "    </tr>\n",
       "  </tbody>\n",
       "</table>\n",
       "</div>"
      ],
      "text/plain": [
       "       index  age  sex  cp  trestbps  chol  fbs  restecg  thalach  exang  \\\n",
       "clust                                                                      \n",
       "0         77   77   77  77        77    77   77       77       77     77   \n",
       "1         72   72   72  72        72    72   72       72       72     72   \n",
       "2         91   91   91  91        91    91   91       91       91     91   \n",
       "3         62   62   62  62        62    62   62       62       62     62   \n",
       "\n",
       "       oldpeak  slope  ca  thal  target  \n",
       "clust                                    \n",
       "0           77     77  77    77      77  \n",
       "1           72     72  72    72      72  \n",
       "2           91     91  91    91      91  \n",
       "3           62     62  62    62      62  "
      ]
     },
     "execution_count": 69,
     "metadata": {},
     "output_type": "execute_result"
    }
   ],
   "source": [
    "df_k.groupby(df_k.clust).count()"
   ]
  },
  {
   "cell_type": "code",
   "execution_count": 72,
   "id": "e7abe647",
   "metadata": {},
   "outputs": [
    {
     "data": {
      "image/png": "[encoded data removed]",
      "text/plain": [
       "<Figure size 1080x504 with 1 Axes>"
      ]
     },
     "metadata": {
      "needs_background": "light"
     },
     "output_type": "display_data"
    }
   ],
   "source": [
    "plt.figure(figsize=(15,7))\n",
    "a=df_k.clust.map({0:'red',1:'blue',2:'black',3:'yellow'})\n",
    "plt.scatter(df_k.index,df_k.chol,c=a)\n",
    "from matplotlib.lines import Line2D\n",
    "colors=['red','blue','black','yellow']\n",
    "legend_elements=[Line2D([0],[0],marker='o',color='w',label='Cluster{}'.format(i),\n",
    "                 markerfacecolor=mcolor,markersize=10) for i , mcolor in enumerate (colors)]\n",
    "plt.legend(handles=legend_elements,loc='upper left')\n",
    "plt.title('Kmeans Clustering using 3 clusters')\n",
    "plt.xlabel('Index')\n",
    "plt.ylabel('chol')\n",
    "plt.show()"
   ]
  },
  {
   "cell_type": "markdown",
   "id": "5ea09a05",
   "metadata": {},
   "source": [
    "#### INSIGHTS\n",
    "* Cluster 0 : In this group only a few are diagnosed with heart disease, the resting ecg and maximum heart rate values are low  and majority of the population is male.\n",
    "* Cluster 1 : In this group all are diagnosed with heart disease, the resting ecg values and maximum heart rate achieved are comparatively higher.The population is comparatively younger and all are female.\n",
    "* Cluster 2 : In this group all are diagnosed with heart disease, the resting ecg values and maximum heart rate achieved are comparatively higher.The population is comparatively younger and all are male.This group has the highest number of patients.\n",
    "* Cluster 3 : In this group none  are diagnosed with heart disease, the resting ecg and maximum heart rate values are also low  and majority of the population is male."
   ]
  },
  {
   "cell_type": "markdown",
   "id": "ef5a91d3",
   "metadata": {},
   "source": [
    "## KMEANS CLUSTERING USING PCA"
   ]
  },
  {
   "cell_type": "markdown",
   "id": "7efb64c7",
   "metadata": {},
   "source": [
    "### SCREE PLOT"
   ]
  },
  {
   "cell_type": "code",
   "execution_count": 74,
   "id": "ec1015a7",
   "metadata": {},
   "outputs": [
    {
     "data": {
      "text/plain": [
       "[129.4919419683951,\n",
       " 88.87774416514122,\n",
       " 55.93530398933471,\n",
       " 40.38799053681771,\n",
       " 27.959266717362407,\n",
       " 22.598053740170553,\n",
       " 17.27467285718209]"
      ]
     },
     "execution_count": 74,
     "metadata": {},
     "output_type": "execute_result"
    }
   ],
   "source": [
    "TWSS=[]\n",
    "k=list(range(2,9))\n",
    "for i in  k:\n",
    "    kmeans=KMeans(n_clusters=i)\n",
    "    kmeans.fit(df_pca)\n",
    "    TWSS.append(kmeans.inertia_)\n",
    "TWSS"
   ]
  },
  {
   "cell_type": "code",
   "execution_count": 76,
   "id": "d9c85305",
   "metadata": {},
   "outputs": [
    {
     "data": {
      "text/plain": [
       "Text(0, 0.5, 'Total within SS')"
      ]
     },
     "execution_count": 76,
     "metadata": {},
     "output_type": "execute_result"
    },
    {
     "data": {
      "image/png": "[encoded data removed]",
      "text/plain": [
       "<Figure size 432x288 with 1 Axes>"
      ]
     },
     "metadata": {
      "needs_background": "light"
     },
     "output_type": "display_data"
    }
   ],
   "source": [
    "plt.plot(k,TWSS,'ro-');plt.xlabel('No of clusters');plt.ylabel('Total within SS')"
   ]
  },
  {
   "cell_type": "markdown",
   "id": "f92bff92",
   "metadata": {},
   "source": [
    "from the scree plot 4 is the optimum number of clusters."
   ]
  },
  {
   "cell_type": "markdown",
   "id": "92af8879",
   "metadata": {},
   "source": [
    "### NO OF CLUSTERS : 4"
   ]
  },
  {
   "cell_type": "code",
   "execution_count": 77,
   "id": "711b5610",
   "metadata": {},
   "outputs": [
    {
     "data": {
      "text/html": [
       "<div>\n",
       "<style scoped>\n",
       "    .dataframe tbody tr th:only-of-type {\n",
       "        vertical-align: middle;\n",
       "    }\n",
       "\n",
       "    .dataframe tbody tr th {\n",
       "        vertical-align: top;\n",
       "    }\n",
       "\n",
       "    .dataframe thead th {\n",
       "        text-align: right;\n",
       "    }\n",
       "</style>\n",
       "<table border=\"1\" class=\"dataframe\">\n",
       "  <thead>\n",
       "    <tr style=\"text-align: right;\">\n",
       "      <th></th>\n",
       "      <th>index</th>\n",
       "      <th>age</th>\n",
       "      <th>sex</th>\n",
       "      <th>cp</th>\n",
       "      <th>trestbps</th>\n",
       "      <th>chol</th>\n",
       "      <th>fbs</th>\n",
       "      <th>restecg</th>\n",
       "      <th>thalach</th>\n",
       "      <th>exang</th>\n",
       "      <th>oldpeak</th>\n",
       "      <th>slope</th>\n",
       "      <th>ca</th>\n",
       "      <th>thal</th>\n",
       "      <th>target</th>\n",
       "      <th>clust</th>\n",
       "    </tr>\n",
       "  </thead>\n",
       "  <tbody>\n",
       "    <tr>\n",
       "      <th>0</th>\n",
       "      <td>0</td>\n",
       "      <td>63</td>\n",
       "      <td>1</td>\n",
       "      <td>3</td>\n",
       "      <td>145.0</td>\n",
       "      <td>233.0</td>\n",
       "      <td>1</td>\n",
       "      <td>0</td>\n",
       "      <td>150.0</td>\n",
       "      <td>0</td>\n",
       "      <td>2.3</td>\n",
       "      <td>0</td>\n",
       "      <td>0</td>\n",
       "      <td>1</td>\n",
       "      <td>1</td>\n",
       "      <td>0</td>\n",
       "    </tr>\n",
       "    <tr>\n",
       "      <th>1</th>\n",
       "      <td>1</td>\n",
       "      <td>37</td>\n",
       "      <td>1</td>\n",
       "      <td>2</td>\n",
       "      <td>130.0</td>\n",
       "      <td>250.0</td>\n",
       "      <td>0</td>\n",
       "      <td>1</td>\n",
       "      <td>187.0</td>\n",
       "      <td>0</td>\n",
       "      <td>3.5</td>\n",
       "      <td>0</td>\n",
       "      <td>0</td>\n",
       "      <td>2</td>\n",
       "      <td>1</td>\n",
       "      <td>0</td>\n",
       "    </tr>\n",
       "    <tr>\n",
       "      <th>2</th>\n",
       "      <td>2</td>\n",
       "      <td>41</td>\n",
       "      <td>0</td>\n",
       "      <td>1</td>\n",
       "      <td>130.0</td>\n",
       "      <td>204.0</td>\n",
       "      <td>0</td>\n",
       "      <td>0</td>\n",
       "      <td>172.0</td>\n",
       "      <td>0</td>\n",
       "      <td>1.4</td>\n",
       "      <td>2</td>\n",
       "      <td>0</td>\n",
       "      <td>2</td>\n",
       "      <td>1</td>\n",
       "      <td>2</td>\n",
       "    </tr>\n",
       "    <tr>\n",
       "      <th>3</th>\n",
       "      <td>3</td>\n",
       "      <td>56</td>\n",
       "      <td>1</td>\n",
       "      <td>1</td>\n",
       "      <td>120.0</td>\n",
       "      <td>236.0</td>\n",
       "      <td>0</td>\n",
       "      <td>1</td>\n",
       "      <td>178.0</td>\n",
       "      <td>0</td>\n",
       "      <td>0.8</td>\n",
       "      <td>2</td>\n",
       "      <td>0</td>\n",
       "      <td>2</td>\n",
       "      <td>1</td>\n",
       "      <td>0</td>\n",
       "    </tr>\n",
       "    <tr>\n",
       "      <th>4</th>\n",
       "      <td>4</td>\n",
       "      <td>57</td>\n",
       "      <td>0</td>\n",
       "      <td>0</td>\n",
       "      <td>120.0</td>\n",
       "      <td>354.0</td>\n",
       "      <td>0</td>\n",
       "      <td>1</td>\n",
       "      <td>163.0</td>\n",
       "      <td>1</td>\n",
       "      <td>0.6</td>\n",
       "      <td>2</td>\n",
       "      <td>0</td>\n",
       "      <td>2</td>\n",
       "      <td>1</td>\n",
       "      <td>2</td>\n",
       "    </tr>\n",
       "  </tbody>\n",
       "</table>\n",
       "</div>"
      ],
      "text/plain": [
       "   index  age  sex  cp  trestbps   chol  fbs  restecg  thalach  exang  \\\n",
       "0      0   63    1   3     145.0  233.0    1        0    150.0      0   \n",
       "1      1   37    1   2     130.0  250.0    0        1    187.0      0   \n",
       "2      2   41    0   1     130.0  204.0    0        0    172.0      0   \n",
       "3      3   56    1   1     120.0  236.0    0        1    178.0      0   \n",
       "4      4   57    0   0     120.0  354.0    0        1    163.0      1   \n",
       "\n",
       "   oldpeak  slope  ca  thal  target  clust  \n",
       "0      2.3      0   0     1       1      0  \n",
       "1      3.5      0   0     2       1      0  \n",
       "2      1.4      2   0     2       1      2  \n",
       "3      0.8      2   0     2       1      0  \n",
       "4      0.6      2   0     2       1      2  "
      ]
     },
     "execution_count": 77,
     "metadata": {},
     "output_type": "execute_result"
    }
   ],
   "source": [
    "model=KMeans(n_clusters=4)\n",
    "model.fit(df_pca)\n",
    "mb=model.labels_\n",
    "df_pk=df.copy()\n",
    "df_pk['clust']=mb\n",
    "df_pk.head()"
   ]
  },
  {
   "cell_type": "code",
   "execution_count": 78,
   "id": "5965a015",
   "metadata": {},
   "outputs": [
    {
     "data": {
      "text/html": [
       "<div>\n",
       "<style scoped>\n",
       "    .dataframe tbody tr th:only-of-type {\n",
       "        vertical-align: middle;\n",
       "    }\n",
       "\n",
       "    .dataframe tbody tr th {\n",
       "        vertical-align: top;\n",
       "    }\n",
       "\n",
       "    .dataframe thead th {\n",
       "        text-align: right;\n",
       "    }\n",
       "</style>\n",
       "<table border=\"1\" class=\"dataframe\">\n",
       "  <thead>\n",
       "    <tr style=\"text-align: right;\">\n",
       "      <th></th>\n",
       "      <th>index</th>\n",
       "      <th>age</th>\n",
       "      <th>sex</th>\n",
       "      <th>cp</th>\n",
       "      <th>trestbps</th>\n",
       "      <th>chol</th>\n",
       "      <th>fbs</th>\n",
       "      <th>restecg</th>\n",
       "      <th>thalach</th>\n",
       "      <th>exang</th>\n",
       "      <th>oldpeak</th>\n",
       "      <th>slope</th>\n",
       "      <th>ca</th>\n",
       "      <th>thal</th>\n",
       "      <th>target</th>\n",
       "    </tr>\n",
       "    <tr>\n",
       "      <th>clust</th>\n",
       "      <th></th>\n",
       "      <th></th>\n",
       "      <th></th>\n",
       "      <th></th>\n",
       "      <th></th>\n",
       "      <th></th>\n",
       "      <th></th>\n",
       "      <th></th>\n",
       "      <th></th>\n",
       "      <th></th>\n",
       "      <th></th>\n",
       "      <th></th>\n",
       "      <th></th>\n",
       "      <th></th>\n",
       "      <th></th>\n",
       "    </tr>\n",
       "  </thead>\n",
       "  <tbody>\n",
       "    <tr>\n",
       "      <th>0</th>\n",
       "      <td>76.593407</td>\n",
       "      <td>50.901099</td>\n",
       "      <td>1.000000</td>\n",
       "      <td>1.417582</td>\n",
       "      <td>129.560440</td>\n",
       "      <td>231.252747</td>\n",
       "      <td>0.186813</td>\n",
       "      <td>0.593407</td>\n",
       "      <td>162.406593</td>\n",
       "      <td>0.153846</td>\n",
       "      <td>0.614286</td>\n",
       "      <td>1.604396</td>\n",
       "      <td>0.362637</td>\n",
       "      <td>2.208791</td>\n",
       "      <td>1.000000</td>\n",
       "    </tr>\n",
       "    <tr>\n",
       "      <th>1</th>\n",
       "      <td>232.532468</td>\n",
       "      <td>56.337662</td>\n",
       "      <td>0.818182</td>\n",
       "      <td>0.155844</td>\n",
       "      <td>134.194805</td>\n",
       "      <td>254.056818</td>\n",
       "      <td>0.181818</td>\n",
       "      <td>0.480519</td>\n",
       "      <td>132.909091</td>\n",
       "      <td>1.000000</td>\n",
       "      <td>1.738961</td>\n",
       "      <td>1.064935</td>\n",
       "      <td>1.103896</td>\n",
       "      <td>2.584416</td>\n",
       "      <td>0.012987</td>\n",
       "    </tr>\n",
       "    <tr>\n",
       "      <th>2</th>\n",
       "      <td>88.205479</td>\n",
       "      <td>54.643836</td>\n",
       "      <td>0.000000</td>\n",
       "      <td>1.315068</td>\n",
       "      <td>128.616438</td>\n",
       "      <td>254.138699</td>\n",
       "      <td>0.082192</td>\n",
       "      <td>0.575342</td>\n",
       "      <td>154.232877</td>\n",
       "      <td>0.109589</td>\n",
       "      <td>0.546575</td>\n",
       "      <td>1.589041</td>\n",
       "      <td>0.301370</td>\n",
       "      <td>2.000000</td>\n",
       "      <td>0.986301</td>\n",
       "    </tr>\n",
       "    <tr>\n",
       "      <th>3</th>\n",
       "      <td>234.016393</td>\n",
       "      <td>56.983607</td>\n",
       "      <td>0.852459</td>\n",
       "      <td>0.885246</td>\n",
       "      <td>133.245902</td>\n",
       "      <td>245.006148</td>\n",
       "      <td>0.131148</td>\n",
       "      <td>0.426230</td>\n",
       "      <td>146.084016</td>\n",
       "      <td>0.000000</td>\n",
       "      <td>1.322951</td>\n",
       "      <td>1.278689</td>\n",
       "      <td>1.262295</td>\n",
       "      <td>2.508197</td>\n",
       "      <td>0.000000</td>\n",
       "    </tr>\n",
       "  </tbody>\n",
       "</table>\n",
       "</div>"
      ],
      "text/plain": [
       "            index        age       sex        cp    trestbps        chol  \\\n",
       "clust                                                                      \n",
       "0       76.593407  50.901099  1.000000  1.417582  129.560440  231.252747   \n",
       "1      232.532468  56.337662  0.818182  0.155844  134.194805  254.056818   \n",
       "2       88.205479  54.643836  0.000000  1.315068  128.616438  254.138699   \n",
       "3      234.016393  56.983607  0.852459  0.885246  133.245902  245.006148   \n",
       "\n",
       "            fbs   restecg     thalach     exang   oldpeak     slope        ca  \\\n",
       "clust                                                                           \n",
       "0      0.186813  0.593407  162.406593  0.153846  0.614286  1.604396  0.362637   \n",
       "1      0.181818  0.480519  132.909091  1.000000  1.738961  1.064935  1.103896   \n",
       "2      0.082192  0.575342  154.232877  0.109589  0.546575  1.589041  0.301370   \n",
       "3      0.131148  0.426230  146.084016  0.000000  1.322951  1.278689  1.262295   \n",
       "\n",
       "           thal    target  \n",
       "clust                      \n",
       "0      2.208791  1.000000  \n",
       "1      2.584416  0.012987  \n",
       "2      2.000000  0.986301  \n",
       "3      2.508197  0.000000  "
      ]
     },
     "execution_count": 78,
     "metadata": {},
     "output_type": "execute_result"
    }
   ],
   "source": [
    "df_pk.groupby(df_pk.clust).mean()"
   ]
  },
  {
   "cell_type": "code",
   "execution_count": 79,
   "id": "8a457699",
   "metadata": {},
   "outputs": [
    {
     "data": {
      "text/html": [
       "<div>\n",
       "<style scoped>\n",
       "    .dataframe tbody tr th:only-of-type {\n",
       "        vertical-align: middle;\n",
       "    }\n",
       "\n",
       "    .dataframe tbody tr th {\n",
       "        vertical-align: top;\n",
       "    }\n",
       "\n",
       "    .dataframe thead th {\n",
       "        text-align: right;\n",
       "    }\n",
       "</style>\n",
       "<table border=\"1\" class=\"dataframe\">\n",
       "  <thead>\n",
       "    <tr style=\"text-align: right;\">\n",
       "      <th></th>\n",
       "      <th>index</th>\n",
       "      <th>age</th>\n",
       "      <th>sex</th>\n",
       "      <th>cp</th>\n",
       "      <th>trestbps</th>\n",
       "      <th>chol</th>\n",
       "      <th>fbs</th>\n",
       "      <th>restecg</th>\n",
       "      <th>thalach</th>\n",
       "      <th>exang</th>\n",
       "      <th>oldpeak</th>\n",
       "      <th>slope</th>\n",
       "      <th>ca</th>\n",
       "      <th>thal</th>\n",
       "      <th>target</th>\n",
       "      <th>clust</th>\n",
       "    </tr>\n",
       "    <tr>\n",
       "      <th>clust</th>\n",
       "      <th></th>\n",
       "      <th></th>\n",
       "      <th></th>\n",
       "      <th></th>\n",
       "      <th></th>\n",
       "      <th></th>\n",
       "      <th></th>\n",
       "      <th></th>\n",
       "      <th></th>\n",
       "      <th></th>\n",
       "      <th></th>\n",
       "      <th></th>\n",
       "      <th></th>\n",
       "      <th></th>\n",
       "      <th></th>\n",
       "      <th></th>\n",
       "    </tr>\n",
       "  </thead>\n",
       "  <tbody>\n",
       "    <tr>\n",
       "      <th>0</th>\n",
       "      <td>77</td>\n",
       "      <td>77</td>\n",
       "      <td>77</td>\n",
       "      <td>77</td>\n",
       "      <td>77</td>\n",
       "      <td>77</td>\n",
       "      <td>77</td>\n",
       "      <td>77</td>\n",
       "      <td>77</td>\n",
       "      <td>77</td>\n",
       "      <td>77</td>\n",
       "      <td>77</td>\n",
       "      <td>77</td>\n",
       "      <td>77</td>\n",
       "      <td>77</td>\n",
       "      <td>77</td>\n",
       "    </tr>\n",
       "    <tr>\n",
       "      <th>1</th>\n",
       "      <td>72</td>\n",
       "      <td>72</td>\n",
       "      <td>72</td>\n",
       "      <td>72</td>\n",
       "      <td>72</td>\n",
       "      <td>72</td>\n",
       "      <td>72</td>\n",
       "      <td>72</td>\n",
       "      <td>72</td>\n",
       "      <td>72</td>\n",
       "      <td>72</td>\n",
       "      <td>72</td>\n",
       "      <td>72</td>\n",
       "      <td>72</td>\n",
       "      <td>72</td>\n",
       "      <td>72</td>\n",
       "    </tr>\n",
       "    <tr>\n",
       "      <th>2</th>\n",
       "      <td>91</td>\n",
       "      <td>91</td>\n",
       "      <td>91</td>\n",
       "      <td>91</td>\n",
       "      <td>91</td>\n",
       "      <td>91</td>\n",
       "      <td>91</td>\n",
       "      <td>91</td>\n",
       "      <td>91</td>\n",
       "      <td>91</td>\n",
       "      <td>91</td>\n",
       "      <td>91</td>\n",
       "      <td>91</td>\n",
       "      <td>91</td>\n",
       "      <td>91</td>\n",
       "      <td>91</td>\n",
       "    </tr>\n",
       "    <tr>\n",
       "      <th>3</th>\n",
       "      <td>62</td>\n",
       "      <td>62</td>\n",
       "      <td>62</td>\n",
       "      <td>62</td>\n",
       "      <td>62</td>\n",
       "      <td>62</td>\n",
       "      <td>62</td>\n",
       "      <td>62</td>\n",
       "      <td>62</td>\n",
       "      <td>62</td>\n",
       "      <td>62</td>\n",
       "      <td>62</td>\n",
       "      <td>62</td>\n",
       "      <td>62</td>\n",
       "      <td>62</td>\n",
       "      <td>62</td>\n",
       "    </tr>\n",
       "  </tbody>\n",
       "</table>\n",
       "</div>"
      ],
      "text/plain": [
       "       index  age  sex  cp  trestbps  chol  fbs  restecg  thalach  exang  \\\n",
       "clust                                                                      \n",
       "0         77   77   77  77        77    77   77       77       77     77   \n",
       "1         72   72   72  72        72    72   72       72       72     72   \n",
       "2         91   91   91  91        91    91   91       91       91     91   \n",
       "3         62   62   62  62        62    62   62       62       62     62   \n",
       "\n",
       "       oldpeak  slope  ca  thal  target  clust  \n",
       "clust                                           \n",
       "0           77     77  77    77      77     77  \n",
       "1           72     72  72    72      72     72  \n",
       "2           91     91  91    91      91     91  \n",
       "3           62     62  62    62      62     62  "
      ]
     },
     "execution_count": 79,
     "metadata": {},
     "output_type": "execute_result"
    }
   ],
   "source": [
    "df_pk.groupby(df_k.clust).count()"
   ]
  },
  {
   "cell_type": "code",
   "execution_count": 80,
   "id": "2e4a7ccf",
   "metadata": {},
   "outputs": [
    {
     "data": {
      "image/png": "[encoded data removed]",
      "text/plain": [
       "<Figure size 1080x504 with 1 Axes>"
      ]
     },
     "metadata": {
      "needs_background": "light"
     },
     "output_type": "display_data"
    }
   ],
   "source": [
    "plt.figure(figsize=(15,7))\n",
    "a=df_pk.clust.map({0:'red',1:'blue',2:'black',3:'yellow'})\n",
    "plt.scatter(df_pk.index,df_pk.chol,c=a)\n",
    "from matplotlib.lines import Line2D\n",
    "colors=['red','blue','black','yellow']\n",
    "legend_elements=[Line2D([0],[0],marker='o',color='w',label='Cluster{}'.format(i),\n",
    "                       markerfacecolor=mcolor,markersize=10) for i , mcolor in enumerate (colors)]\n",
    "plt.legend(handles=legend_elements,loc='upper left')\n",
    "plt.title(\"Kmeans clustering using 4 clusters\")\n",
    "plt.xlabel('Index')\n",
    "plt.ylabel('Cholestrol')\n",
    "plt.show()"
   ]
  },
  {
   "cell_type": "markdown",
   "id": "91e66707",
   "metadata": {},
   "source": [
    "#### INSIGHTS\n",
    "* Cluster 0 : In this group all are diagnosed with heart disease, the resting ecg values and maximum heart rate achieved are comparatively higher.The population is comparatively younger and all are male.  \n",
    "* Cluster 1 : In this group only a few are diagnosed with heart disease, the resting ecg and maximum heart rate values are low  and majority of the population is male.\n",
    "* Cluster 2 : In this group most are diagnosed with heart disease, the resting ecg values and maximum heart rate achieved are comparatively higher.The population is comparatively younger and all are female.This group has the most number of patients.\n",
    "* Cluster 3 : In this group none  are diagnosed with heart disease, the resting ecg and maximum heart rate values are also low  and majority of the population is male."
   ]
  },
  {
   "cell_type": "markdown",
   "id": "c00d3718",
   "metadata": {},
   "source": [
    "## CONCLUSION\n",
    "From the above insights we can get the following inferences : \n"
   ]
  },
  {
   "cell_type": "markdown",
   "id": "eea5858e",
   "metadata": {},
   "source": [
    "* While doing Hierarchical clustering the results obtained after clustering dimension reduced components and the results obtained without doing dimension reduction were almost the same."
   ]
  },
  {
   "cell_type": "markdown",
   "id": "1496783f",
   "metadata": {},
   "source": [
    "* But while doing Kmeans clustering the results obtained after clustering dimension reduced components and the results obtained without  doing dimension reduction were quite same but there were some differences."
   ]
  },
  {
   "cell_type": "markdown",
   "id": "36e2c638",
   "metadata": {},
   "source": [
    "__So from the above points we can infer that dimension reduction doesn't change the final output alot even though the data used is reduced which helps to reduce the computation time  without  compromising on the accuracy.__"
   ]
  },
  {
   "cell_type": "markdown",
   "id": "cb1272d1",
   "metadata": {},
   "source": [
    "As for the dataset, we can group them into two groups: "
   ]
  },
  {
   "cell_type": "markdown",
   "id": "2a43c1ac",
   "metadata": {},
   "source": [
    "* __High Risk__ : This group has a higher chance of having a heart disease , the resting ecg and maximum heart rate level give a clear idea about the chances of heart disease. Both these levels are high for this group and both male and female are almost in equal proportions."
   ]
  },
  {
   "cell_type": "markdown",
   "id": "8a1deaa6",
   "metadata": {},
   "source": [
    "* __Low Risk__ : This group has a lower chance of having a heart disease, the resting ecg and maximum heart rate levels are low. Majority of the population is male."
   ]
  },
  {
   "cell_type": "markdown",
   "id": "318a80cf",
   "metadata": {},
   "source": [
    "### BENEFIT\n",
    "* From the above analysis we can find that the resting ecg and maximum heart rate values have very high influence over the chances of heart disease diagnosis.\n",
    "* The type of chest pain is also has an influence , type 0 & 1 have lower chances whereas the type 1 & 2 have a higher chance."
   ]
  }
 ],
 "metadata": {
  "kernelspec": {
   "display_name": "Python 3 (ipykernel)",
   "language": "python",
   "name": "python3"
  },
  "language_info": {
   "codemirror_mode": {
    "name": "ipython",
    "version": 3
   },
   "file_extension": ".py",
   "mimetype": "text/x-python",
   "name": "python",
   "nbconvert_exporter": "python",
   "pygments_lexer": "ipython3",
   "version": "3.9.12"
  }
 },
 "nbformat": 4,
 "nbformat_minor": 5
}
